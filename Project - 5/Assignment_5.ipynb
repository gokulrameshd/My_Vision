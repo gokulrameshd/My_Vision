{
  "nbformat": 4,
  "nbformat_minor": 0,
  "metadata": {
    "colab": {
      "name": "Assignment-5",
      "version": "0.3.2",
      "provenance": []
    },
    "kernelspec": {
      "name": "python3",
      "display_name": "Python 3"
    },
    "accelerator": "GPU"
  },
  "cells": [
    {
      "cell_type": "markdown",
      "metadata": {
        "id": "WkiNblFhGQl9",
        "colab_type": "text"
      },
      "source": [
        "#Assignment:\n",
        "Change the code 8 or your own 4th Code from Assignment 4 to include:\n",
        "\n",
        "1.Image normalization\n",
        "\n",
        "2.L2 regularization\n",
        "\n",
        "3.ReLU after BN\n",
        "\n",
        "Run your new code for 40 epochs and save the model with highest validation accuracy\n",
        "\n",
        "Find out 25 misclassified images from the validation dataset and create an image gallery"
      ]
    },
    {
      "cell_type": "markdown",
      "metadata": {
        "id": "5NIx6SGG6zqg",
        "colab_type": "text"
      },
      "source": [
        "#Mounting Google drive\n",
        "\n",
        "accessing google drive / authendication"
      ]
    },
    {
      "cell_type": "code",
      "metadata": {
        "id": "uYtEj4qAob3x",
        "colab_type": "code",
        "outputId": "c797e715-05df-4cf4-abce-b4dbb4d52a00",
        "colab": {
          "base_uri": "https://localhost:8080/",
          "height": 122
        }
      },
      "source": [
        "from google.colab import drive\n",
        "drive.mount('/content/gdrive')"
      ],
      "execution_count": 1,
      "outputs": [
        {
          "output_type": "stream",
          "text": [
            "Go to this URL in a browser: https://accounts.google.com/o/oauth2/auth?client_id=947318989803-6bn6qk8qdgf4n4g3pfee6491hc0brc4i.apps.googleusercontent.com&redirect_uri=urn%3Aietf%3Awg%3Aoauth%3A2.0%3Aoob&scope=email%20https%3A%2F%2Fwww.googleapis.com%2Fauth%2Fdocs.test%20https%3A%2F%2Fwww.googleapis.com%2Fauth%2Fdrive%20https%3A%2F%2Fwww.googleapis.com%2Fauth%2Fdrive.photos.readonly%20https%3A%2F%2Fwww.googleapis.com%2Fauth%2Fpeopleapi.readonly&response_type=code\n",
            "\n",
            "Enter your authorization code:\n",
            "··········\n",
            "Mounted at /content/gdrive\n"
          ],
          "name": "stdout"
        }
      ]
    },
    {
      "cell_type": "markdown",
      "metadata": {
        "id": "aNyZv-Ec52ot",
        "colab_type": "text"
      },
      "source": [
        "# **Import Libraries and modules**"
      ]
    },
    {
      "cell_type": "code",
      "metadata": {
        "id": "3m3w1Cw49Zkt",
        "colab_type": "code",
        "outputId": "f9a7fc6c-ef67-489e-de8e-57f1732545b6",
        "colab": {
          "base_uri": "https://localhost:8080/",
          "height": 34
        }
      },
      "source": [
        "# https://keras.io/\n",
        "!pip install -q keras                                                                                        \n",
        "import keras"
      ],
      "execution_count": 2,
      "outputs": [
        {
          "output_type": "stream",
          "text": [
            "Using TensorFlow backend.\n"
          ],
          "name": "stderr"
        }
      ]
    },
    {
      "cell_type": "code",
      "metadata": {
        "id": "Eso6UHE080D4",
        "colab_type": "code",
        "colab": {}
      },
      "source": [
        "import numpy as np\n",
        "\n",
        "from keras.models import Sequential\n",
        "from keras.layers import Dense, Dropout, Activation, Flatten, Add\n",
        "from keras.layers import Convolution2D, MaxPooling2D\n",
        "from keras.utils import np_utils\n",
        "\n",
        "from keras.datasets import mnist"
      ],
      "execution_count": 0,
      "outputs": []
    },
    {
      "cell_type": "markdown",
      "metadata": {
        "id": "zByEi95J86RD",
        "colab_type": "text"
      },
      "source": [
        "### Load pre-shuffled MNIST data into train and test sets"
      ]
    },
    {
      "cell_type": "code",
      "metadata": {
        "id": "7eRM0QWN83PV",
        "colab_type": "code",
        "colab": {}
      },
      "source": [
        "(X_train, y_train), (X_test, y_test) = mnist.load_data()"
      ],
      "execution_count": 0,
      "outputs": []
    },
    {
      "cell_type": "markdown",
      "metadata": {
        "id": "5GAZafMy05_0",
        "colab_type": "text"
      },
      "source": [
        "###Ploting the image"
      ]
    },
    {
      "cell_type": "code",
      "metadata": {
        "id": "4a4Be72j8-ZC",
        "colab_type": "code",
        "outputId": "5edc5237-84a0-4d1b-d44d-a5254ef8b5a1",
        "colab": {
          "base_uri": "https://localhost:8080/",
          "height": 303
        }
      },
      "source": [
        "print (X_train.shape)\n",
        "from matplotlib import pyplot as plt\n",
        "%matplotlib inline\n",
        "plt.imshow(X_train[0])"
      ],
      "execution_count": 38,
      "outputs": [
        {
          "output_type": "stream",
          "text": [
            "(60000, 28, 28)\n"
          ],
          "name": "stdout"
        },
        {
          "output_type": "execute_result",
          "data": {
            "text/plain": [
              "<matplotlib.image.AxesImage at 0x7f0edaf08eb8>"
            ]
          },
          "metadata": {
            "tags": []
          },
          "execution_count": 38
        },
        {
          "output_type": "display_data",
          "data": {
            "image/png": "[encoded data removed]",
            "text/plain": [
              "<Figure size 432x288 with 1 Axes>"
            ]
          },
          "metadata": {
            "tags": []
          }
        }
      ]
    },
    {
      "cell_type": "markdown",
      "metadata": {
        "id": "V-Ld02pq7P0d",
        "colab_type": "text"
      },
      "source": [
        "##Reshaping the x_train and x_test\n",
        "\n",
        "####(Number of images,width,height,channels)"
      ]
    },
    {
      "cell_type": "code",
      "metadata": {
        "id": "dkmprriw9AnZ",
        "colab_type": "code",
        "colab": {}
      },
      "source": [
        "X_train = X_train.reshape(X_train.shape[0], 28, 28,1)\n",
        "X_test = X_test.reshape(X_test.shape[0], 28, 28,1)"
      ],
      "execution_count": 0,
      "outputs": []
    },
    {
      "cell_type": "code",
      "metadata": {
        "id": "eBq1-1noCoEj",
        "colab_type": "code",
        "colab": {}
      },
      "source": [
        "from keras.preprocessing.image import ImageDataGenerator"
      ],
      "execution_count": 0,
      "outputs": []
    },
    {
      "cell_type": "markdown",
      "metadata": {
        "id": "Q7-DHorI7g-j",
        "colab_type": "text"
      },
      "source": [
        "##Normalization\n",
        "\n",
        "Dividing by 255 , (highest value  of pixel )"
      ]
    },
    {
      "cell_type": "code",
      "metadata": {
        "id": "X2m4YS4E9CRh",
        "colab_type": "code",
        "colab": {}
      },
      "source": [
        "# X_train = X_train.astype('float32')\n",
        "# X_test = X_test.astype('float32')\n",
        "# X_train /= 255\n",
        "# X_test /= 255"
      ],
      "execution_count": 0,
      "outputs": []
    },
    {
      "cell_type": "markdown",
      "metadata": {
        "id": "cBWF90Y21gB6",
        "colab_type": "text"
      },
      "source": [
        "#Pixel and Image Normalization"
      ]
    },
    {
      "cell_type": "code",
      "metadata": {
        "id": "dtpJ0h2PFGVh",
        "colab_type": "code",
        "colab": {}
      },
      "source": [
        "datagen = ImageDataGenerator(rescale= 1./255,    #Pixel normalization\n",
        "                             featurewise_center=True,  #Image Normalization\n",
        "                             featurewise_std_normalization=True  #Image normaliztion\n",
        "                           \n",
        "                              )\n",
        "valid_datagen = ImageDataGenerator(rescale= 1./255,    #Pixel normalization\n",
        "                                  featurewise_center=True,  #Image Normalization\n",
        "                                  featurewise_std_normalization=True  #Image normaliztion\n",
        "                                  )"
      ],
      "execution_count": 0,
      "outputs": []
    },
    {
      "cell_type": "code",
      "metadata": {
        "id": "3rvehJvAG3uk",
        "colab_type": "code",
        "colab": {}
      },
      "source": [
        "datagen.fit(X_train)\n",
        "valid_datagen.fit(X_test)"
      ],
      "execution_count": 0,
      "outputs": []
    },
    {
      "cell_type": "code",
      "metadata": {
        "id": "GV6yi2hDaOzm",
        "colab_type": "code",
        "colab": {}
      },
      "source": [
        "\n",
        "# datagen.flow(x, y=None, batch_size=32, shuffle=True, sample_weight=None,\n",
        "#              seed=None, save_to_dir=None, save_prefix='', save_format='png', subset=None)\n",
        "tr_gen = datagen.flow(X_train, Y_train, batch_size=64)\n",
        "va_gen = valid_datagen.flow(X_test, Y_test, batch_size=64)"
      ],
      "execution_count": 0,
      "outputs": []
    },
    {
      "cell_type": "code",
      "metadata": {
        "id": "0Mn0vAYD9DvB",
        "colab_type": "code",
        "outputId": "84256f0a-7a1b-47f2-cdf8-a002addec3ff",
        "colab": {
          "base_uri": "https://localhost:8080/",
          "height": 34
        }
      },
      "source": [
        "y_train[:10]"
      ],
      "execution_count": 14,
      "outputs": [
        {
          "output_type": "execute_result",
          "data": {
            "text/plain": [
              "array([5, 0, 4, 1, 9, 2, 1, 3, 1, 4], dtype=uint8)"
            ]
          },
          "metadata": {
            "tags": []
          },
          "execution_count": 14
        }
      ]
    },
    {
      "cell_type": "markdown",
      "metadata": {
        "id": "xUTPo8He73KV",
        "colab_type": "text"
      },
      "source": [
        "##Convert 1-dimensional class arrays to 10-dimensional class matrices"
      ]
    },
    {
      "cell_type": "code",
      "metadata": {
        "id": "ZG8JiXR39FHC",
        "colab_type": "code",
        "colab": {}
      },
      "source": [
        "# Convert 1-dimensional class arrays to 10-dimensional class matrices\n",
        "Y_train = np_utils.to_categorical(y_train, 10)\n",
        "Y_test = np_utils.to_categorical(y_test, 10)"
      ],
      "execution_count": 0,
      "outputs": []
    },
    {
      "cell_type": "code",
      "metadata": {
        "id": "fYlFRvKS9HMB",
        "colab_type": "code",
        "outputId": "c2b6ac22-7dfd-46d3-d5aa-d7bdce02f801",
        "colab": {
          "base_uri": "https://localhost:8080/",
          "height": 187
        }
      },
      "source": [
        "Y_train[:10]\n"
      ],
      "execution_count": 16,
      "outputs": [
        {
          "output_type": "execute_result",
          "data": {
            "text/plain": [
              "array([[0., 0., 0., 0., 0., 1., 0., 0., 0., 0.],\n",
              "       [1., 0., 0., 0., 0., 0., 0., 0., 0., 0.],\n",
              "       [0., 0., 0., 0., 1., 0., 0., 0., 0., 0.],\n",
              "       [0., 1., 0., 0., 0., 0., 0., 0., 0., 0.],\n",
              "       [0., 0., 0., 0., 0., 0., 0., 0., 0., 1.],\n",
              "       [0., 0., 1., 0., 0., 0., 0., 0., 0., 0.],\n",
              "       [0., 1., 0., 0., 0., 0., 0., 0., 0., 0.],\n",
              "       [0., 0., 0., 1., 0., 0., 0., 0., 0., 0.],\n",
              "       [0., 1., 0., 0., 0., 0., 0., 0., 0., 0.],\n",
              "       [0., 0., 0., 0., 1., 0., 0., 0., 0., 0.]], dtype=float32)"
            ]
          },
          "metadata": {
            "tags": []
          },
          "execution_count": 16
        }
      ]
    },
    {
      "cell_type": "markdown",
      "metadata": {
        "id": "kQfzd_OB77gr",
        "colab_type": "text"
      },
      "source": [
        "##Buiding a sequential model"
      ]
    },
    {
      "cell_type": "code",
      "metadata": {
        "id": "qCi3cxLQ7dPR",
        "colab_type": "code",
        "outputId": "3fd6431d-80c9-4c27-81a3-24983cdf5288",
        "colab": {
          "base_uri": "https://localhost:8080/",
          "height": 1227
        }
      },
      "source": [
        "from keras.layers import Activation, MaxPooling2D, BatchNormalization, Dropout\n",
        "from keras import regularizers\n",
        "# Model is built by stacking layers using keras sequential model\n",
        "\n",
        "\n",
        "model = Sequential() \n",
        "model.add(Convolution2D(16, 3, 3, activation='relu', kernel_regularizer=regularizers.l2(0.01), input_shape=(28,28,1))) #Receptive_Field=3\n",
        "model.add(BatchNormalization())\n",
        "model.add(Dropout(0.1))\n",
        "\n",
        "model.add(Convolution2D(16, 3, 3,kernel_regularizer=regularizers.l2(0.01),  activation='relu')) #Receptive_Field=5\n",
        "model.add(BatchNormalization())\n",
        "model.add(Dropout(0.1))\n",
        "\n",
        "model.add(MaxPooling2D(pool_size=(2, 2))) #Receptive_Field=10\n",
        "\n",
        "model.add(Convolution2D(10,1,activation='relu')) #Receptive_Field=10\n",
        "model.add(BatchNormalization())\n",
        "\n",
        "model.add(Convolution2D(10, 3, 3, kernel_regularizer=regularizers.l2(0.01), activation='relu')) #Receptive_Field=12\n",
        "model.add(BatchNormalization())\n",
        "model.add(Dropout(0.1))\n",
        "\n",
        "model.add(Convolution2D(16, 3, 3,kernel_regularizer=regularizers.l2(0.01),  activation='relu')) #Receptive_Field=14\n",
        "model.add(BatchNormalization())\n",
        "model.add(Dropout(0.1))\n",
        "\n",
        "model.add(BatchNormalization())\n",
        "model.add(Convolution2D(32, 3, 3, kernel_regularizer=regularizers.l2(0.01), activation='relu')) #Receptive_Field=16\n",
        "model.add(BatchNormalization())\n",
        "model.add(Dropout(0.1))\n",
        "\n",
        "\n",
        "model.add(Convolution2D(10,1)) #Receptive_Field=18\n",
        "model.add(BatchNormalization())\n",
        "model.add(Dropout(0.1))\n",
        "\n",
        "model.add(Convolution2D(10,6)) #Receptive_Field=28\n",
        "model.add(Flatten())                                                        \n",
        "model.add(Activation('softmax'))                                            \n",
        "\n",
        "model.summary()"
      ],
      "execution_count": 17,
      "outputs": [
        {
          "output_type": "stream",
          "text": [
            "WARNING:tensorflow:From /usr/local/lib/python3.6/dist-packages/tensorflow/python/framework/op_def_library.py:263: colocate_with (from tensorflow.python.framework.ops) is deprecated and will be removed in a future version.\n",
            "Instructions for updating:\n",
            "Colocations handled automatically by placer.\n"
          ],
          "name": "stdout"
        },
        {
          "output_type": "stream",
          "text": [
            "/usr/local/lib/python3.6/dist-packages/ipykernel_launcher.py:7: UserWarning: Update your `Conv2D` call to the Keras 2 API: `Conv2D(16, (3, 3), activation=\"relu\", kernel_regularizer=<keras.reg..., input_shape=(28, 28, 1...)`\n",
            "  import sys\n"
          ],
          "name": "stderr"
        },
        {
          "output_type": "stream",
          "text": [
            "WARNING:tensorflow:From /usr/local/lib/python3.6/dist-packages/keras/backend/tensorflow_backend.py:3445: calling dropout (from tensorflow.python.ops.nn_ops) with keep_prob is deprecated and will be removed in a future version.\n",
            "Instructions for updating:\n",
            "Please use `rate` instead of `keep_prob`. Rate should be set to `rate = 1 - keep_prob`.\n"
          ],
          "name": "stdout"
        },
        {
          "output_type": "stream",
          "text": [
            "/usr/local/lib/python3.6/dist-packages/ipykernel_launcher.py:11: UserWarning: Update your `Conv2D` call to the Keras 2 API: `Conv2D(16, (3, 3), kernel_regularizer=<keras.reg..., activation=\"relu\")`\n",
            "  # This is added back by InteractiveShellApp.init_path()\n",
            "/usr/local/lib/python3.6/dist-packages/ipykernel_launcher.py:19: UserWarning: Update your `Conv2D` call to the Keras 2 API: `Conv2D(10, (3, 3), kernel_regularizer=<keras.reg..., activation=\"relu\")`\n",
            "/usr/local/lib/python3.6/dist-packages/ipykernel_launcher.py:23: UserWarning: Update your `Conv2D` call to the Keras 2 API: `Conv2D(16, (3, 3), kernel_regularizer=<keras.reg..., activation=\"relu\")`\n",
            "/usr/local/lib/python3.6/dist-packages/ipykernel_launcher.py:28: UserWarning: Update your `Conv2D` call to the Keras 2 API: `Conv2D(32, (3, 3), kernel_regularizer=<keras.reg..., activation=\"relu\")`\n"
          ],
          "name": "stderr"
        },
        {
          "output_type": "stream",
          "text": [
            "_________________________________________________________________\n",
            "Layer (type)                 Output Shape              Param #   \n",
            "=================================================================\n",
            "conv2d_1 (Conv2D)            (None, 26, 26, 16)        160       \n",
            "_________________________________________________________________\n",
            "batch_normalization_1 (Batch (None, 26, 26, 16)        64        \n",
            "_________________________________________________________________\n",
            "dropout_1 (Dropout)          (None, 26, 26, 16)        0         \n",
            "_________________________________________________________________\n",
            "conv2d_2 (Conv2D)            (None, 24, 24, 16)        2320      \n",
            "_________________________________________________________________\n",
            "batch_normalization_2 (Batch (None, 24, 24, 16)        64        \n",
            "_________________________________________________________________\n",
            "dropout_2 (Dropout)          (None, 24, 24, 16)        0         \n",
            "_________________________________________________________________\n",
            "max_pooling2d_1 (MaxPooling2 (None, 12, 12, 16)        0         \n",
            "_________________________________________________________________\n",
            "conv2d_3 (Conv2D)            (None, 12, 12, 10)        170       \n",
            "_________________________________________________________________\n",
            "batch_normalization_3 (Batch (None, 12, 12, 10)        40        \n",
            "_________________________________________________________________\n",
            "conv2d_4 (Conv2D)            (None, 10, 10, 10)        910       \n",
            "_________________________________________________________________\n",
            "batch_normalization_4 (Batch (None, 10, 10, 10)        40        \n",
            "_________________________________________________________________\n",
            "dropout_3 (Dropout)          (None, 10, 10, 10)        0         \n",
            "_________________________________________________________________\n",
            "conv2d_5 (Conv2D)            (None, 8, 8, 16)          1456      \n",
            "_________________________________________________________________\n",
            "batch_normalization_5 (Batch (None, 8, 8, 16)          64        \n",
            "_________________________________________________________________\n",
            "dropout_4 (Dropout)          (None, 8, 8, 16)          0         \n",
            "_________________________________________________________________\n",
            "batch_normalization_6 (Batch (None, 8, 8, 16)          64        \n",
            "_________________________________________________________________\n",
            "conv2d_6 (Conv2D)            (None, 6, 6, 32)          4640      \n",
            "_________________________________________________________________\n",
            "batch_normalization_7 (Batch (None, 6, 6, 32)          128       \n",
            "_________________________________________________________________\n",
            "dropout_5 (Dropout)          (None, 6, 6, 32)          0         \n",
            "_________________________________________________________________\n",
            "conv2d_7 (Conv2D)            (None, 6, 6, 10)          330       \n",
            "_________________________________________________________________\n",
            "batch_normalization_8 (Batch (None, 6, 6, 10)          40        \n",
            "_________________________________________________________________\n",
            "dropout_6 (Dropout)          (None, 6, 6, 10)          0         \n",
            "_________________________________________________________________\n",
            "conv2d_8 (Conv2D)            (None, 1, 1, 10)          3610      \n",
            "_________________________________________________________________\n",
            "flatten_1 (Flatten)          (None, 10)                0         \n",
            "_________________________________________________________________\n",
            "activation_1 (Activation)    (None, 10)                0         \n",
            "=================================================================\n",
            "Total params: 14,100\n",
            "Trainable params: 13,848\n",
            "Non-trainable params: 252\n",
            "_________________________________________________________________\n"
          ],
          "name": "stdout"
        }
      ]
    },
    {
      "cell_type": "markdown",
      "metadata": {
        "id": "Spi0QH73BQhG",
        "colab_type": "text"
      },
      "source": [
        "##Importing Model checkpoint\n",
        "\n",
        "The model check point is used to store the model weight at specific points"
      ]
    },
    {
      "cell_type": "code",
      "metadata": {
        "id": "KvIEjXnXLSuf",
        "colab_type": "code",
        "colab": {}
      },
      "source": [
        "from keras.callbacks import  ModelCheckpoint\n",
        "\n",
        "filepath=\"/content/gdrive/My Drive/Colab Notebooks/EVA/5/epochs:{epoch:03d}-val_acc:{val_acc:.3f}.hdf5\"\n",
        "#file path store weights in google drive\n",
        "\n",
        "checkpoint = ModelCheckpoint(filepath, monitor='val_acc', verbose=1, save_best_only=True, mode='max')\n",
        "# Store the weights when the validation accuracy increases"
      ],
      "execution_count": 0,
      "outputs": []
    },
    {
      "cell_type": "markdown",
      "metadata": {
        "id": "SH8wAUe53qAL",
        "colab_type": "text"
      },
      "source": [
        "# Learning Rate scheduler\n",
        "\n",
        "used to reduce the learning rate wrt epochs"
      ]
    },
    {
      "cell_type": "code",
      "metadata": {
        "id": "JFXcKgzh0f8Q",
        "colab_type": "code",
        "colab": {}
      },
      "source": [
        "from keras.optimizers import Adam\n",
        "from keras.callbacks import LearningRateScheduler\n",
        "\n",
        "def scheduler(epoch, lr):\n",
        "  return round(0.003 * 1/(1 + 0.319 * epoch), 10)"
      ],
      "execution_count": 0,
      "outputs": []
    },
    {
      "cell_type": "markdown",
      "metadata": {
        "id": "TDoXj6whCGxC",
        "colab_type": "text"
      },
      "source": [
        "##Compiling the model\n",
        "\n",
        "categorical_crossentropy is used as loss function\n",
        "\n",
        "Adam with learning rate of 0.001 is optimizer\n",
        "\n",
        "Accuracy is taken as metric"
      ]
    },
    {
      "cell_type": "code",
      "metadata": {
        "id": "Zp6SuGrL9M3h",
        "colab_type": "code",
        "colab": {}
      },
      "source": [
        "# model.compile(optimizer, loss=None, metrics=None, loss_weights=None,\n",
        "#               sample_weight_mode=None, weighted_metrics=None, target_tensors=None, **kwargs)\n",
        "model.compile(loss='categorical_crossentropy',\n",
        "              optimizer=Adam(lr=0.003),\n",
        "              metrics=['accuracy'])\n",
        "\n"
      ],
      "execution_count": 0,
      "outputs": []
    },
    {
      "cell_type": "markdown",
      "metadata": {
        "id": "na26L1IYC49x",
        "colab_type": "text"
      },
      "source": [
        "##Fitting / Training the model\n",
        "\n",
        "batch size  = 128 images\n",
        "Epochs  =  10"
      ]
    },
    {
      "cell_type": "code",
      "metadata": {
        "id": "oFo9LQ-Zri4H",
        "colab_type": "code",
        "outputId": "44fa8f4b-72e8-470e-d11f-747dff8f5b47",
        "colab": {
          "base_uri": "https://localhost:8080/",
          "height": 4202
        }
      },
      "source": [
        "\n",
        "# model.fit_generator(generator, steps_per_epoch=None, epochs=1, verbose=1, callbacks=None, validation_data=None, \n",
        "#                     validation_steps=None, class_weight=None, max_queue_size=10,\n",
        "#                     workers=1, use_multiprocessing=False, shuffle=True, initial_epoch=0)\n",
        "\n",
        "model.fit_generator(generator = tr_gen, steps_per_epoch=512,#len(X_train) / 64,\n",
        "                    verbose=1,nb_epoch = 40,\n",
        "                    callbacks=[checkpoint,LearningRateScheduler(scheduler, verbose=1)],\n",
        "                     validation_data = va_gen,validation_steps=51,\n",
        "                     )"
      ],
      "execution_count": 0,
      "outputs": [
        {
          "output_type": "stream",
          "text": [
            "/usr/local/lib/python3.6/dist-packages/ipykernel_launcher.py:5: UserWarning: The semantics of the Keras 2 argument `steps_per_epoch` is not the same as the Keras 1 argument `samples_per_epoch`. `steps_per_epoch` is the number of batches to draw from the generator at each epoch. Basically steps_per_epoch = samples_per_epoch/batch_size. Similarly `nb_val_samples`->`validation_steps` and `val_samples`->`steps` arguments have changed. Update your method calls accordingly.\n",
            "  \"\"\"\n",
            "/usr/local/lib/python3.6/dist-packages/ipykernel_launcher.py:5: UserWarning: Update your `fit_generator` call to the Keras 2 API: `fit_generator(generator=<keras_pre..., steps_per_epoch=512, verbose=1, callbacks=[<keras.ca..., validation_data=<keras_pre..., validation_steps=51, epochs=40)`\n",
            "  \"\"\"\n"
          ],
          "name": "stderr"
        },
        {
          "output_type": "stream",
          "text": [
            "Epoch 1/40\n",
            "\n",
            "Epoch 00001: LearningRateScheduler setting learning rate to 0.003.\n",
            "512/512 [==============================] - 12s 24ms/step - loss: 0.4731 - acc: 0.9301 - val_loss: 8.6066 - val_acc: 0.1109\n",
            "\n",
            "Epoch 00001: val_acc improved from -inf to 0.11091, saving model to /content/gdrive/My Drive/Colab Notebooks/EVA/5/epochs:001-val_acc:0.111.hdf5\n",
            "Epoch 2/40\n",
            "\n",
            "Epoch 00002: LearningRateScheduler setting learning rate to 0.0022744503.\n",
            "512/512 [==============================] - 8s 15ms/step - loss: 0.1813 - acc: 0.9694 - val_loss: 13.4607 - val_acc: 0.1023\n",
            "\n",
            "Epoch 00002: val_acc did not improve from 0.11091\n",
            "Epoch 3/40\n",
            "\n",
            "Epoch 00003: LearningRateScheduler setting learning rate to 0.0018315018.\n",
            "512/512 [==============================] - 8s 15ms/step - loss: 0.1401 - acc: 0.9758 - val_loss: 7.7951 - val_acc: 0.1982\n",
            "\n",
            "Epoch 00003: val_acc improved from 0.11091 to 0.19822, saving model to /content/gdrive/My Drive/Colab Notebooks/EVA/5/epochs:003-val_acc:0.198.hdf5\n",
            "Epoch 4/40\n",
            "\n",
            "Epoch 00004: LearningRateScheduler setting learning rate to 0.0015329586.\n",
            "512/512 [==============================] - 8s 15ms/step - loss: 0.1294 - acc: 0.9766 - val_loss: 7.1380 - val_acc: 0.1828\n",
            "\n",
            "Epoch 00004: val_acc did not improve from 0.19822\n",
            "Epoch 5/40\n",
            "\n",
            "Epoch 00005: LearningRateScheduler setting learning rate to 0.0013181019.\n",
            "512/512 [==============================] - 7s 15ms/step - loss: 0.1144 - acc: 0.9794 - val_loss: 12.0778 - val_acc: 0.1017\n",
            "\n",
            "Epoch 00005: val_acc did not improve from 0.19822\n",
            "Epoch 6/40\n",
            "\n",
            "Epoch 00006: LearningRateScheduler setting learning rate to 0.0011560694.\n",
            "512/512 [==============================] - 8s 15ms/step - loss: 0.1009 - acc: 0.9821 - val_loss: 3.6126 - val_acc: 0.5083\n",
            "\n",
            "Epoch 00006: val_acc improved from 0.19822 to 0.50827, saving model to /content/gdrive/My Drive/Colab Notebooks/EVA/5/epochs:006-val_acc:0.508.hdf5\n",
            "Epoch 7/40\n",
            "\n",
            "Epoch 00007: LearningRateScheduler setting learning rate to 0.0010295127.\n",
            "512/512 [==============================] - 8s 16ms/step - loss: 0.0967 - acc: 0.9819 - val_loss: 11.5670 - val_acc: 0.1141\n",
            "\n",
            "Epoch 00007: val_acc did not improve from 0.50827\n",
            "Epoch 8/40\n",
            "\n",
            "Epoch 00008: LearningRateScheduler setting learning rate to 0.0009279307.\n",
            "512/512 [==============================] - 9s 17ms/step - loss: 0.0885 - acc: 0.9841 - val_loss: 13.7160 - val_acc: 0.1100\n",
            "\n",
            "Epoch 00008: val_acc did not improve from 0.50827\n",
            "Epoch 9/40\n",
            "\n",
            "Epoch 00009: LearningRateScheduler setting learning rate to 0.0008445946.\n",
            "512/512 [==============================] - 8s 15ms/step - loss: 0.0845 - acc: 0.9834 - val_loss: 12.0862 - val_acc: 0.1158\n",
            "\n",
            "Epoch 00009: val_acc did not improve from 0.50827\n",
            "Epoch 10/40\n",
            "\n",
            "Epoch 00010: LearningRateScheduler setting learning rate to 0.0007749935.\n",
            "512/512 [==============================] - 8s 15ms/step - loss: 0.0788 - acc: 0.9852 - val_loss: 13.0475 - val_acc: 0.1026\n",
            "\n",
            "Epoch 00010: val_acc did not improve from 0.50827\n",
            "Epoch 11/40\n",
            "\n",
            "Epoch 00011: LearningRateScheduler setting learning rate to 0.0007159905.\n",
            "512/512 [==============================] - 7s 15ms/step - loss: 0.0775 - acc: 0.9848 - val_loss: 8.6511 - val_acc: 0.1161\n",
            "\n",
            "Epoch 00011: val_acc did not improve from 0.50827\n",
            "Epoch 12/40\n",
            "\n",
            "Epoch 00012: LearningRateScheduler setting learning rate to 0.000665336.\n",
            "512/512 [==============================] - 8s 15ms/step - loss: 0.0714 - acc: 0.9864 - val_loss: 2.0634 - val_acc: 0.5671\n",
            "\n",
            "Epoch 00012: val_acc improved from 0.50827 to 0.56710, saving model to /content/gdrive/My Drive/Colab Notebooks/EVA/5/epochs:012-val_acc:0.567.hdf5\n",
            "Epoch 13/40\n",
            "\n",
            "Epoch 00013: LearningRateScheduler setting learning rate to 0.0006213753.\n",
            "512/512 [==============================] - 8s 15ms/step - loss: 0.0733 - acc: 0.9853 - val_loss: 4.0283 - val_acc: 0.2627\n",
            "\n",
            "Epoch 00013: val_acc did not improve from 0.56710\n",
            "Epoch 14/40\n",
            "\n",
            "Epoch 00014: LearningRateScheduler setting learning rate to 0.0005828638.\n",
            "512/512 [==============================] - 8s 15ms/step - loss: 0.0651 - acc: 0.9876 - val_loss: 8.4579 - val_acc: 0.2472\n",
            "\n",
            "Epoch 00014: val_acc did not improve from 0.56710\n",
            "Epoch 15/40\n",
            "\n",
            "Epoch 00015: LearningRateScheduler setting learning rate to 0.0005488474.\n",
            "512/512 [==============================] - 8s 15ms/step - loss: 0.0682 - acc: 0.9877 - val_loss: 9.3812 - val_acc: 0.1094\n",
            "\n",
            "Epoch 00015: val_acc did not improve from 0.56710\n",
            "Epoch 16/40\n",
            "\n",
            "Epoch 00016: LearningRateScheduler setting learning rate to 0.0005185825.\n",
            "512/512 [==============================] - 8s 15ms/step - loss: 0.0649 - acc: 0.9871 - val_loss: 11.5072 - val_acc: 0.1461\n",
            "\n",
            "Epoch 00016: val_acc did not improve from 0.56710\n",
            "Epoch 17/40\n",
            "\n",
            "Epoch 00017: LearningRateScheduler setting learning rate to 0.000491481.\n",
            "512/512 [==============================] - 8s 15ms/step - loss: 0.0606 - acc: 0.9886 - val_loss: 11.3401 - val_acc: 0.1317\n",
            "\n",
            "Epoch 00017: val_acc did not improve from 0.56710\n",
            "Epoch 18/40\n",
            "\n",
            "Epoch 00018: LearningRateScheduler setting learning rate to 0.0004670715.\n",
            "512/512 [==============================] - 9s 17ms/step - loss: 0.0604 - acc: 0.9885 - val_loss: 8.7434 - val_acc: 0.1281\n",
            "\n",
            "Epoch 00018: val_acc did not improve from 0.56710\n",
            "Epoch 19/40\n",
            "\n",
            "Epoch 00019: LearningRateScheduler setting learning rate to 0.0004449718.\n",
            "512/512 [==============================] - 8s 15ms/step - loss: 0.0546 - acc: 0.9891 - val_loss: 6.4827 - val_acc: 0.1996\n",
            "\n",
            "Epoch 00019: val_acc did not improve from 0.56710\n",
            "Epoch 20/40\n",
            "\n",
            "Epoch 00020: LearningRateScheduler setting learning rate to 0.000424869.\n",
            "512/512 [==============================] - 8s 15ms/step - loss: 0.0598 - acc: 0.9884 - val_loss: 0.1741 - val_acc: 0.9519\n",
            "\n",
            "Epoch 00020: val_acc improved from 0.56710 to 0.95190, saving model to /content/gdrive/My Drive/Colab Notebooks/EVA/5/epochs:020-val_acc:0.952.hdf5\n",
            "Epoch 21/40\n",
            "\n",
            "Epoch 00021: LearningRateScheduler setting learning rate to 0.0004065041.\n",
            "512/512 [==============================] - 8s 15ms/step - loss: 0.0539 - acc: 0.9893 - val_loss: 10.4968 - val_acc: 0.1881\n",
            "\n",
            "Epoch 00021: val_acc did not improve from 0.95190\n",
            "Epoch 22/40\n",
            "\n",
            "Epoch 00022: LearningRateScheduler setting learning rate to 0.000389661.\n",
            "512/512 [==============================] - 8s 15ms/step - loss: 0.0541 - acc: 0.9888 - val_loss: 11.6651 - val_acc: 0.1782\n",
            "\n",
            "Epoch 00022: val_acc did not improve from 0.95190\n",
            "Epoch 23/40\n",
            "\n",
            "Epoch 00023: LearningRateScheduler setting learning rate to 0.0003741581.\n",
            "512/512 [==============================] - 8s 15ms/step - loss: 0.0518 - acc: 0.9899 - val_loss: 13.1888 - val_acc: 0.0993\n",
            "\n",
            "Epoch 00023: val_acc did not improve from 0.95190\n",
            "Epoch 24/40\n",
            "\n",
            "Epoch 00024: LearningRateScheduler setting learning rate to 0.0003598417.\n",
            "512/512 [==============================] - 7s 15ms/step - loss: 0.0533 - acc: 0.9896 - val_loss: 4.2401 - val_acc: 0.1771\n",
            "\n",
            "Epoch 00024: val_acc did not improve from 0.95190\n",
            "Epoch 25/40\n",
            "\n",
            "Epoch 00025: LearningRateScheduler setting learning rate to 0.0003465804.\n",
            "512/512 [==============================] - 9s 17ms/step - loss: 0.0494 - acc: 0.9900 - val_loss: 1.5486 - val_acc: 0.6371\n",
            "\n",
            "Epoch 00025: val_acc did not improve from 0.95190\n",
            "Epoch 26/40\n",
            "\n",
            "Epoch 00026: LearningRateScheduler setting learning rate to 0.0003342618.\n",
            "512/512 [==============================] - 8s 16ms/step - loss: 0.0506 - acc: 0.9899 - val_loss: 1.9882 - val_acc: 0.5319\n",
            "\n",
            "Epoch 00026: val_acc did not improve from 0.95190\n",
            "Epoch 27/40\n",
            "\n",
            "Epoch 00027: LearningRateScheduler setting learning rate to 0.0003227889.\n",
            "512/512 [==============================] - 8s 15ms/step - loss: 0.0486 - acc: 0.9903 - val_loss: 2.8412 - val_acc: 0.2102\n",
            "\n",
            "Epoch 00027: val_acc did not improve from 0.95190\n",
            "Epoch 28/40\n",
            "\n",
            "Epoch 00028: LearningRateScheduler setting learning rate to 0.0003120774.\n",
            "512/512 [==============================] - 9s 17ms/step - loss: 0.0459 - acc: 0.9911 - val_loss: 2.1767 - val_acc: 0.4132\n",
            "\n",
            "Epoch 00028: val_acc did not improve from 0.95190\n",
            "Epoch 29/40\n",
            "\n",
            "Epoch 00029: LearningRateScheduler setting learning rate to 0.000302054.\n",
            "512/512 [==============================] - 8s 15ms/step - loss: 0.0477 - acc: 0.9901 - val_loss: 9.6336 - val_acc: 0.2240\n",
            "\n",
            "Epoch 00029: val_acc did not improve from 0.95190\n",
            "Epoch 30/40\n",
            "\n",
            "Epoch 00030: LearningRateScheduler setting learning rate to 0.0002926544.\n",
            "512/512 [==============================] - 8s 15ms/step - loss: 0.0455 - acc: 0.9902 - val_loss: 11.4453 - val_acc: 0.1143\n",
            "\n",
            "Epoch 00030: val_acc did not improve from 0.95190\n",
            "Epoch 31/40\n",
            "\n",
            "Epoch 00031: LearningRateScheduler setting learning rate to 0.0002838221.\n",
            "512/512 [==============================] - 8s 15ms/step - loss: 0.0457 - acc: 0.9908 - val_loss: 1.4652 - val_acc: 0.6527\n",
            "\n",
            "Epoch 00031: val_acc did not improve from 0.95190\n",
            "Epoch 32/40\n",
            "\n",
            "Epoch 00032: LearningRateScheduler setting learning rate to 0.0002755074.\n",
            "512/512 [==============================] - 8s 15ms/step - loss: 0.0420 - acc: 0.9913 - val_loss: 3.5947 - val_acc: 0.3695\n",
            "\n",
            "Epoch 00032: val_acc did not improve from 0.95190\n",
            "Epoch 33/40\n",
            "\n",
            "Epoch 00033: LearningRateScheduler setting learning rate to 0.000267666.\n",
            "512/512 [==============================] - 8s 15ms/step - loss: 0.0446 - acc: 0.9906 - val_loss: 0.4479 - val_acc: 0.8575\n",
            "\n",
            "Epoch 00033: val_acc did not improve from 0.95190\n",
            "Epoch 34/40\n",
            "\n",
            "Epoch 00034: LearningRateScheduler setting learning rate to 0.0002602585.\n",
            "512/512 [==============================] - 8s 15ms/step - loss: 0.0412 - acc: 0.9915 - val_loss: 1.6578 - val_acc: 0.5973\n",
            "\n",
            "Epoch 00034: val_acc did not improve from 0.95190\n",
            "Epoch 35/40\n",
            "\n",
            "Epoch 00035: LearningRateScheduler setting learning rate to 0.00025325.\n",
            "512/512 [==============================] - 7s 15ms/step - loss: 0.0445 - acc: 0.9905 - val_loss: 13.4561 - val_acc: 0.0956\n",
            "\n",
            "Epoch 00035: val_acc did not improve from 0.95190\n",
            "Epoch 36/40\n",
            "\n",
            "Epoch 00036: LearningRateScheduler setting learning rate to 0.0002466091.\n",
            "512/512 [==============================] - 8s 15ms/step - loss: 0.0433 - acc: 0.9913 - val_loss: 0.3625 - val_acc: 0.9066\n",
            "\n",
            "Epoch 00036: val_acc did not improve from 0.95190\n",
            "Epoch 37/40\n",
            "\n",
            "Epoch 00037: LearningRateScheduler setting learning rate to 0.0002403076.\n",
            "512/512 [==============================] - 8s 15ms/step - loss: 0.0392 - acc: 0.9919 - val_loss: 3.0785 - val_acc: 0.4562\n",
            "\n",
            "Epoch 00037: val_acc did not improve from 0.95190\n",
            "Epoch 38/40\n",
            "\n",
            "Epoch 00038: LearningRateScheduler setting learning rate to 0.0002343201.\n",
            "512/512 [==============================] - 8s 16ms/step - loss: 0.0404 - acc: 0.9915 - val_loss: 3.2668 - val_acc: 0.3778\n",
            "\n",
            "Epoch 00038: val_acc did not improve from 0.95190\n",
            "Epoch 39/40\n",
            "\n",
            "Epoch 00039: LearningRateScheduler setting learning rate to 0.0002286237.\n",
            "512/512 [==============================] - 8s 16ms/step - loss: 0.0394 - acc: 0.9917 - val_loss: 0.2402 - val_acc: 0.9234\n",
            "\n",
            "Epoch 00039: val_acc did not improve from 0.95190\n",
            "Epoch 40/40\n",
            "\n",
            "Epoch 00040: LearningRateScheduler setting learning rate to 0.0002231977.\n",
            "512/512 [==============================] - 8s 15ms/step - loss: 0.0421 - acc: 0.9910 - val_loss: 2.7086 - val_acc: 0.5340\n",
            "\n",
            "Epoch 00040: val_acc did not improve from 0.95190\n"
          ],
          "name": "stdout"
        },
        {
          "output_type": "execute_result",
          "data": {
            "text/plain": [
              "<keras.callbacks.History at 0x7f83d6169668>"
            ]
          },
          "metadata": {
            "tags": []
          },
          "execution_count": 82
        }
      ]
    },
    {
      "cell_type": "code",
      "metadata": {
        "id": "ezCb6oFKkfo5",
        "colab_type": "code",
        "colab": {}
      },
      "source": [
        "model.load_weights('/content/gdrive/My Drive/Colab Notebooks/EVA/5/epochs:020-val_acc:0.952.hdf5')\n",
        "\n",
        "model.compile(loss='categorical_crossentropy',\n",
        "             optimizer=keras.optimizers.Adam(lr=0.000001, beta_1=0.9, beta_2=0.999, epsilon=None, decay=0.0, amsgrad=False),\n",
        "             metrics=['accuracy'])"
      ],
      "execution_count": 0,
      "outputs": []
    },
    {
      "cell_type": "code",
      "metadata": {
        "id": "uJvod1OM_O30",
        "colab_type": "code",
        "outputId": "505f731b-5595-4646-ad4a-109ffeaaa6e1",
        "colab": {
          "base_uri": "https://localhost:8080/",
          "height": 136
        }
      },
      "source": [
        "score = model.evaluate_generator(va_gen, steps = 10,verbose=0)\n",
        "print(score)\n",
        "score = model.evaluate_generator(va_gen, steps = 10,verbose=0)\n",
        "print(score)\n",
        "score = model.evaluate_generator(va_gen, steps = 10,verbose=0)\n",
        "print(score)\n",
        "score = model.evaluate_generator(va_gen, steps = 10,verbose=0)\n",
        "print(score)\n",
        "score = model.evaluate_generator(va_gen, steps = 10,verbose=0)\n",
        "print(score)\n",
        "score = model.evaluate_generator(va_gen, steps = 10,verbose=0)\n",
        "print(score)\n",
        "score = model.evaluate_generator(va_gen, steps = 10,verbose=0)\n",
        "print(score)"
      ],
      "execution_count": 48,
      "outputs": [
        {
          "output_type": "stream",
          "text": [
            "[0.14773046607906754, 0.9628378378378378]\n",
            "[0.15069399066269398, 0.959375]\n",
            "[0.236541960388422, 0.9390625]\n",
            "[0.16072018966078758, 0.9484375]\n",
            "[0.17624227255582808, 0.9515625]\n",
            "[0.14944967105984688, 0.95625]\n",
            "[0.1667075462639332, 0.9625]\n"
          ],
          "name": "stdout"
        }
      ]
    },
    {
      "cell_type": "code",
      "metadata": {
        "id": "DZ1_g-8j_dR2",
        "colab_type": "code",
        "outputId": "12b2eab3-ac1e-4e4f-a23e-3d5e756399fb",
        "colab": {
          "base_uri": "https://localhost:8080/",
          "height": 51
        }
      },
      "source": [
        "X_test = X_test.astype('float32')\n",
        "X_test /= 255\n",
        "score = model.evaluate(X_test,Y_test)#, steps = 10,verbose=0)\n",
        "print(score)"
      ],
      "execution_count": 41,
      "outputs": [
        {
          "output_type": "stream",
          "text": [
            "10000/10000 [==============================] - 1s 127us/step\n",
            "[0.9759456423997879, 0.9332]\n"
          ],
          "name": "stdout"
        }
      ]
    },
    {
      "cell_type": "code",
      "metadata": {
        "id": "paxNVtoJtOD8",
        "colab_type": "code",
        "colab": {
          "base_uri": "https://localhost:8080/",
          "height": 51
        },
        "outputId": "ac517f4b-918d-4087-d4d4-54699785b568"
      },
      "source": [
        "\n",
        "score = model.evaluate(X_test,Y_test)#, steps = 10,verbose=0)\n",
        "print(score)"
      ],
      "execution_count": 49,
      "outputs": [
        {
          "output_type": "stream",
          "text": [
            "10000/10000 [==============================] - 1s 117us/step\n",
            "[0.9759456423997879, 0.9332]\n"
          ],
          "name": "stdout"
        }
      ]
    },
    {
      "cell_type": "code",
      "metadata": {
        "id": "Vz2t64_-nm-J",
        "colab_type": "code",
        "colab": {}
      },
      "source": [
        "# X_test = (X_test - X_test.mean() )/X_test.std()\n",
        "# score = model.evaluate(X_test,Y_test)#, steps = 10,verbose=0)\n",
        "# print(score)\n"
      ],
      "execution_count": 0,
      "outputs": []
    },
    {
      "cell_type": "code",
      "metadata": {
        "id": "7vUYFcNqt3Nw",
        "colab_type": "code",
        "colab": {}
      },
      "source": [
        "pred = model.predict(X_test)\n",
        "# pred = model.predict_generator(va_gen,steps = 5)"
      ],
      "execution_count": 0,
      "outputs": []
    },
    {
      "cell_type": "code",
      "metadata": {
        "id": "OWHjJxqp8Zmq",
        "colab_type": "code",
        "outputId": "51c23641-9771-4eee-fab8-ffa53407ef65",
        "colab": {
          "base_uri": "https://localhost:8080/",
          "height": 34
        }
      },
      "source": [
        "pred= pred.round()\n",
        "pred[8]"
      ],
      "execution_count": 53,
      "outputs": [
        {
          "output_type": "execute_result",
          "data": {
            "text/plain": [
              "array([0., 0., 0., 0., 0., 1., 0., 0., 0., 0.], dtype=float32)"
            ]
          },
          "metadata": {
            "tags": []
          },
          "execution_count": 53
        }
      ]
    },
    {
      "cell_type": "markdown",
      "metadata": {
        "id": "Qgc_XJpV4Tve",
        "colab_type": "text"
      },
      "source": [
        "##Creating a data frame"
      ]
    },
    {
      "cell_type": "code",
      "metadata": {
        "id": "YdTgs3237xtd",
        "colab_type": "code",
        "colab": {}
      },
      "source": [
        "import pandas as pd\n",
        "comp = pd.DataFrame()"
      ],
      "execution_count": 0,
      "outputs": []
    },
    {
      "cell_type": "code",
      "metadata": {
        "id": "08-jFsyUCL7z",
        "colab_type": "code",
        "colab": {
          "base_uri": "https://localhost:8080/",
          "height": 204
        },
        "outputId": "43d82b7d-3f05-4f4f-fcbc-c3df96612097"
      },
      "source": [
        "comp['y_test'] = y_test\n",
        "comp['pred']= np.argmax(pred,axis=1)\n",
        "comp.head()"
      ],
      "execution_count": 59,
      "outputs": [
        {
          "output_type": "execute_result",
          "data": {
            "text/html": [
              "<div>\n",
              "<style scoped>\n",
              "    .dataframe tbody tr th:only-of-type {\n",
              "        vertical-align: middle;\n",
              "    }\n",
              "\n",
              "    .dataframe tbody tr th {\n",
              "        vertical-align: top;\n",
              "    }\n",
              "\n",
              "    .dataframe thead th {\n",
              "        text-align: right;\n",
              "    }\n",
              "</style>\n",
              "<table border=\"1\" class=\"dataframe\">\n",
              "  <thead>\n",
              "    <tr style=\"text-align: right;\">\n",
              "      <th></th>\n",
              "      <th>y_test</th>\n",
              "      <th>pred</th>\n",
              "    </tr>\n",
              "  </thead>\n",
              "  <tbody>\n",
              "    <tr>\n",
              "      <th>0</th>\n",
              "      <td>7</td>\n",
              "      <td>7</td>\n",
              "    </tr>\n",
              "    <tr>\n",
              "      <th>1</th>\n",
              "      <td>2</td>\n",
              "      <td>2</td>\n",
              "    </tr>\n",
              "    <tr>\n",
              "      <th>2</th>\n",
              "      <td>1</td>\n",
              "      <td>1</td>\n",
              "    </tr>\n",
              "    <tr>\n",
              "      <th>3</th>\n",
              "      <td>0</td>\n",
              "      <td>0</td>\n",
              "    </tr>\n",
              "    <tr>\n",
              "      <th>4</th>\n",
              "      <td>4</td>\n",
              "      <td>4</td>\n",
              "    </tr>\n",
              "  </tbody>\n",
              "</table>\n",
              "</div>"
            ],
            "text/plain": [
              "   y_test  pred\n",
              "0       7     7\n",
              "1       2     2\n",
              "2       1     1\n",
              "3       0     0\n",
              "4       4     4"
            ]
          },
          "metadata": {
            "tags": []
          },
          "execution_count": 59
        }
      ]
    },
    {
      "cell_type": "code",
      "metadata": {
        "id": "kSxccI3DiJr2",
        "colab_type": "code",
        "colab": {}
      },
      "source": [
        "m = []\n",
        "for i,j in zip(comp['y_test'],comp['pred']):\n",
        "  if i == j:\n",
        "    r = 'correct'\n",
        "  else :\n",
        "    r = 'misclassified'\n",
        "  m.append(r)\n",
        "  \n",
        "comp['Result'] = m"
      ],
      "execution_count": 0,
      "outputs": []
    },
    {
      "cell_type": "code",
      "metadata": {
        "id": "TOJ2KH-zjKv2",
        "colab_type": "code",
        "colab": {
          "base_uri": "https://localhost:8080/",
          "height": 204
        },
        "outputId": "9984ddd2-5716-47f5-b104-379877dbd3ce"
      },
      "source": [
        "comp.head()"
      ],
      "execution_count": 62,
      "outputs": [
        {
          "output_type": "execute_result",
          "data": {
            "text/html": [
              "<div>\n",
              "<style scoped>\n",
              "    .dataframe tbody tr th:only-of-type {\n",
              "        vertical-align: middle;\n",
              "    }\n",
              "\n",
              "    .dataframe tbody tr th {\n",
              "        vertical-align: top;\n",
              "    }\n",
              "\n",
              "    .dataframe thead th {\n",
              "        text-align: right;\n",
              "    }\n",
              "</style>\n",
              "<table border=\"1\" class=\"dataframe\">\n",
              "  <thead>\n",
              "    <tr style=\"text-align: right;\">\n",
              "      <th></th>\n",
              "      <th>y_test</th>\n",
              "      <th>pred</th>\n",
              "      <th>Result</th>\n",
              "    </tr>\n",
              "  </thead>\n",
              "  <tbody>\n",
              "    <tr>\n",
              "      <th>0</th>\n",
              "      <td>7</td>\n",
              "      <td>7</td>\n",
              "      <td>correct</td>\n",
              "    </tr>\n",
              "    <tr>\n",
              "      <th>1</th>\n",
              "      <td>2</td>\n",
              "      <td>2</td>\n",
              "      <td>correct</td>\n",
              "    </tr>\n",
              "    <tr>\n",
              "      <th>2</th>\n",
              "      <td>1</td>\n",
              "      <td>1</td>\n",
              "      <td>correct</td>\n",
              "    </tr>\n",
              "    <tr>\n",
              "      <th>3</th>\n",
              "      <td>0</td>\n",
              "      <td>0</td>\n",
              "      <td>correct</td>\n",
              "    </tr>\n",
              "    <tr>\n",
              "      <th>4</th>\n",
              "      <td>4</td>\n",
              "      <td>4</td>\n",
              "      <td>correct</td>\n",
              "    </tr>\n",
              "  </tbody>\n",
              "</table>\n",
              "</div>"
            ],
            "text/plain": [
              "   y_test  pred   Result\n",
              "0       7     7  correct\n",
              "1       2     2  correct\n",
              "2       1     1  correct\n",
              "3       0     0  correct\n",
              "4       4     4  correct"
            ]
          },
          "metadata": {
            "tags": []
          },
          "execution_count": 62
        }
      ]
    },
    {
      "cell_type": "markdown",
      "metadata": {
        "id": "8B6wYj0JKCQl",
        "colab_type": "text"
      },
      "source": [
        "##indexing the misclassified images"
      ]
    },
    {
      "cell_type": "code",
      "metadata": {
        "id": "LDtAyLIvm7wI",
        "colab_type": "code",
        "colab": {
          "base_uri": "https://localhost:8080/",
          "height": 51
        },
        "outputId": "8c8d2259-5703-4186-f784-cf574f9e1b8a"
      },
      "source": [
        "\n",
        "mis =[]\n",
        "corr = []\n",
        "for i in range(len(y_test)):\n",
        "\n",
        "  if (Y_test[i] == pred[i]).all():\n",
        "    corr.append(i)\n",
        "\n",
        "  else :\n",
        "    mis.append(i)\n",
        "\n",
        "print(len(corr))\n",
        "print(len(mis))"
      ],
      "execution_count": 64,
      "outputs": [
        {
          "output_type": "stream",
          "text": [
            "9332\n",
            "668\n"
          ],
          "name": "stdout"
        }
      ]
    },
    {
      "cell_type": "code",
      "metadata": {
        "id": "HUf1MBWtqSDc",
        "colab_type": "code",
        "colab": {}
      },
      "source": [
        "(X_train, y_train), (X_test, y_test) = mnist.load_data()\n"
      ],
      "execution_count": 0,
      "outputs": []
    },
    {
      "cell_type": "code",
      "metadata": {
        "id": "9WKYUX7wvzTr",
        "colab_type": "code",
        "colab": {
          "base_uri": "https://localhost:8080/",
          "height": 34
        },
        "outputId": "71d6dd89-2da6-4060-c365-4f75d0bddce5"
      },
      "source": [
        "print('Statistics train=%.3f (%.3f), test=%.3f (%.3f)' % (X_train.mean(), X_train.std(), X_test.mean(), X_test.std()))"
      ],
      "execution_count": 92,
      "outputs": [
        {
          "output_type": "stream",
          "text": [
            "Statistics train=33.318 (78.567), test=33.791 (79.172)\n"
          ],
          "name": "stdout"
        }
      ]
    },
    {
      "cell_type": "code",
      "metadata": {
        "id": "zFOpTqOdkQgK",
        "colab_type": "code",
        "colab": {}
      },
      "source": [
        "mis_class = []\n",
        "for i in mis:\n",
        "  mis_class.append(y_test[i])"
      ],
      "execution_count": 0,
      "outputs": []
    },
    {
      "cell_type": "markdown",
      "metadata": {
        "id": "6ZuscNHM4duh",
        "colab_type": "text"
      },
      "source": [
        "#Visualization of misclassified images class wise "
      ]
    },
    {
      "cell_type": "code",
      "metadata": {
        "id": "BvF_eMqZquir",
        "colab_type": "code",
        "colab": {
          "base_uri": "https://localhost:8080/",
          "height": 269
        },
        "outputId": "3d8859c0-ddd7-46a3-ce55-e729aa64f259"
      },
      "source": [
        "zero=[];one=[];two=[];three=[];four=[];five=[];six=[]\n",
        "seven=[]\n",
        "eight=[]\n",
        "nine=[]\n",
        "\n",
        "for i,c in zip(mis,mis_class):\n",
        "#   plt.imshow(X_test[i])\n",
        "#   plt.show()\n",
        "  if c == 0:\n",
        "    zero.append(X_test[i])\n",
        "  if c == 1:\n",
        "    one.append(X_test[i])\n",
        "  if c == 2:\n",
        "    two.append(X_test[i])\n",
        "  if c == 3:\n",
        "    three.append(X_test[i])\n",
        "  if c == 4:\n",
        "    four.append(X_test[i])\n",
        "  if c == 5:\n",
        "    five.append(X_test[i])\n",
        "  if c == 6:\n",
        "    six.append(X_test[i])\n",
        "  if c == 7:\n",
        "    seven.append(X_test[i])\n",
        "  if c == 8:\n",
        "    eight.append(X_test[i])\n",
        "  if c == 9:\n",
        "    nine.append(X_test[i])\n",
        "  \n",
        "for i in one[1:10]:\n",
        "    output_0 = np.concatenate((zero[:10]),axis = 1)\n",
        "    output_1 = np.concatenate((one[:10]),axis = 1)\n",
        "    output_2 = np.concatenate((two[:10]),axis = 1)\n",
        "    output_3 = np.concatenate((three[:10]),axis = 1)\n",
        "    output_4 = np.concatenate((four[:10]),axis = 1)\n",
        "    output_5 = np.concatenate((five[:10]),axis = 1)\n",
        "    output_6 = np.concatenate((six[:10]),axis = 1)\n",
        "    output_7 = np.concatenate((seven[:10]),axis = 1)\n",
        "    output_8 = np.concatenate((eight[:10]),axis = 1)\n",
        "    output_9 = np.concatenate((nine[:10]),axis = 1)\n",
        "    \n",
        "output  = np.concatenate((output_0,output_1,output_2,output_3,output_4,output_5,output_6,output_7,output_8,output_9),axis =0)\n",
        "\n",
        "\n",
        "plt.imshow(output)\n",
        "plt.show()"
      ],
      "execution_count": 135,
      "outputs": [
        {
          "output_type": "display_data",
          "data": {
            "image/png": "[encoded data removed]",
            "text/plain": [
              "<Figure size 432x288 with 1 Axes>"
            ]
          },
          "metadata": {
            "tags": []
          }
        }
      ]
    },
    {
      "cell_type": "markdown",
      "metadata": {
        "id": "Hkyg11_A4tNN",
        "colab_type": "text"
      },
      "source": [
        "#Visualization of Misclassified count wrt class"
      ]
    },
    {
      "cell_type": "code",
      "metadata": {
        "id": "UO-m1jQqsXoF",
        "colab_type": "code",
        "colab": {
          "base_uri": "https://localhost:8080/",
          "height": 532
        },
        "outputId": "97afed35-b953-4153-82b2-d134cce9f4f1"
      },
      "source": [
        "\n",
        "f,(ax1,ax2) =plt.subplots(figsize=(20,8),\n",
        "                   nrows=1, ncols=2, sharex=False, sharey=False, \n",
        "                   squeeze=True, subplot_kw=None, gridspec_kw=None)\n",
        "sns.countplot(error['mis_class'] ,ax =ax1)\n",
        "ax1.set_xlabel('CLASS', fontsize=15)\n",
        "ax1.set_ylabel('COUNT', fontsize=20)\n",
        "ax1.set_title('MISCLASSIFIED COUNT', fontsize=20)\n",
        "ax1.tick_params(labelsize=20)\n",
        "\n",
        "sns.countplot(y_test,ax = ax2)\n",
        "ax2.set_xlabel('CLASS', fontsize=15)\n",
        "ax2.set_ylabel('COUNT', fontsize=20)\n",
        "ax2.set_title('TOTAL COUNT', fontsize=20)\n",
        "ax2.tick_params(labelsize=20)"
      ],
      "execution_count": 145,
      "outputs": [
        {
          "output_type": "display_data",
          "data": {
            "image/png": "[encoded data removed]",
            "text/plain": [
              "<Figure size 1440x576 with 2 Axes>"
            ]
          },
          "metadata": {
            "tags": []
          }
        }
      ]
    },
    {
      "cell_type": "markdown",
      "metadata": {
        "id": "7uq63E8W48M0",
        "colab_type": "text"
      },
      "source": [
        "##Class 1 and class 7 has high Misclassification"
      ]
    },
    {
      "cell_type": "code",
      "metadata": {
        "id": "f2H8x4FSwVd2",
        "colab_type": "code",
        "colab": {}
      },
      "source": [
        ""
      ],
      "execution_count": 0,
      "outputs": []
    }
  ]
}