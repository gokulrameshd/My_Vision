{
  "nbformat": 4,
  "nbformat_minor": 0,
  "metadata": {
    "colab": {
      "name": "Assingment_3 - 99.45",
      "version": "0.3.2",
      "provenance": [],
      "collapsed_sections": []
    },
    "kernelspec": {
      "name": "python3",
      "display_name": "Python 3"
    },
    "accelerator": "GPU"
  },
  "cells": [
    {
      "cell_type": "code",
      "metadata": {
        "id": "rQRSR5Us6xG8",
        "colab_type": "code",
        "colab": {}
      },
      "source": [
        ""
      ],
      "execution_count": 0,
      "outputs": []
    },
    {
      "cell_type": "markdown",
      "metadata": {
        "id": "5NIx6SGG6zqg",
        "colab_type": "text"
      },
      "source": [
        "#Mounting Google drive\n",
        "\n",
        "accessing google drive / authendication"
      ]
    },
    {
      "cell_type": "code",
      "metadata": {
        "id": "uYtEj4qAob3x",
        "colab_type": "code",
        "colab": {
          "base_uri": "https://localhost:8080/",
          "height": 122
        },
        "outputId": "b0be316d-25de-4cc8-9114-38e9304b1f72"
      },
      "source": [
        "from google.colab import drive\n",
        "drive.mount('/content/gdrive')"
      ],
      "execution_count": 138,
      "outputs": [
        {
          "output_type": "stream",
          "text": [
            "Go to this URL in a browser: https://accounts.google.com/o/oauth2/auth?client_id=947318989803-6bn6qk8qdgf4n4g3pfee6491hc0brc4i.apps.googleusercontent.com&redirect_uri=urn%3Aietf%3Awg%3Aoauth%3A2.0%3Aoob&scope=email%20https%3A%2F%2Fwww.googleapis.com%2Fauth%2Fdocs.test%20https%3A%2F%2Fwww.googleapis.com%2Fauth%2Fdrive%20https%3A%2F%2Fwww.googleapis.com%2Fauth%2Fdrive.photos.readonly%20https%3A%2F%2Fwww.googleapis.com%2Fauth%2Fpeopleapi.readonly&response_type=code\n",
            "\n",
            "Enter your authorization code:\n",
            "··········\n",
            "Mounted at /content/gdrive\n"
          ],
          "name": "stdout"
        }
      ]
    },
    {
      "cell_type": "markdown",
      "metadata": {
        "id": "aNyZv-Ec52ot",
        "colab_type": "text"
      },
      "source": [
        "# **Import Libraries and modules**"
      ]
    },
    {
      "cell_type": "code",
      "metadata": {
        "id": "3m3w1Cw49Zkt",
        "colab_type": "code",
        "colab": {}
      },
      "source": [
        "# https://keras.io/\n",
        "!pip install -q keras                                                                                        \n",
        "import keras"
      ],
      "execution_count": 0,
      "outputs": []
    },
    {
      "cell_type": "code",
      "metadata": {
        "id": "Eso6UHE080D4",
        "colab_type": "code",
        "colab": {}
      },
      "source": [
        "import numpy as np\n",
        "\n",
        "from keras.models import Sequential\n",
        "from keras.layers import Dense, Dropout, Activation, Flatten, Add\n",
        "from keras.layers import Convolution2D, MaxPooling2D\n",
        "from keras.utils import np_utils\n",
        "\n",
        "from keras.datasets import mnist"
      ],
      "execution_count": 0,
      "outputs": []
    },
    {
      "cell_type": "markdown",
      "metadata": {
        "id": "zByEi95J86RD",
        "colab_type": "text"
      },
      "source": [
        "### Load pre-shuffled MNIST data into train and test sets"
      ]
    },
    {
      "cell_type": "code",
      "metadata": {
        "id": "7eRM0QWN83PV",
        "colab_type": "code",
        "colab": {}
      },
      "source": [
        "(X_train, y_train), (X_test, y_test) = mnist.load_data()"
      ],
      "execution_count": 0,
      "outputs": []
    },
    {
      "cell_type": "code",
      "metadata": {
        "id": "4a4Be72j8-ZC",
        "colab_type": "code",
        "outputId": "9e77ebbd-fce9-4d66-8795-3b586adba37c",
        "colab": {
          "base_uri": "https://localhost:8080/",
          "height": 303
        }
      },
      "source": [
        "print (X_train.shape)\n",
        "from matplotlib import pyplot as plt\n",
        "%matplotlib inline\n",
        "plt.imshow(X_train[0])"
      ],
      "execution_count": 142,
      "outputs": [
        {
          "output_type": "stream",
          "text": [
            "(60000, 28, 28)\n"
          ],
          "name": "stdout"
        },
        {
          "output_type": "execute_result",
          "data": {
            "text/plain": [
              "<matplotlib.image.AxesImage at 0x7fd4a0281860>"
            ]
          },
          "metadata": {
            "tags": []
          },
          "execution_count": 142
        },
        {
          "output_type": "display_data",
          "data": {
            "image/png": "[encoded data removed]",
            "text/plain": [
              "<Figure size 432x288 with 1 Axes>"
            ]
          },
          "metadata": {
            "tags": []
          }
        }
      ]
    },
    {
      "cell_type": "markdown",
      "metadata": {
        "id": "V-Ld02pq7P0d",
        "colab_type": "text"
      },
      "source": [
        "##Reshaping the x_train and x_test"
      ]
    },
    {
      "cell_type": "code",
      "metadata": {
        "id": "dkmprriw9AnZ",
        "colab_type": "code",
        "colab": {}
      },
      "source": [
        "X_train = X_train.reshape(X_train.shape[0], 28, 28,1)\n",
        "X_test = X_test.reshape(X_test.shape[0], 28, 28,1)"
      ],
      "execution_count": 0,
      "outputs": []
    },
    {
      "cell_type": "markdown",
      "metadata": {
        "id": "Q7-DHorI7g-j",
        "colab_type": "text"
      },
      "source": [
        "##Normalizing /Scaling\n",
        "\n",
        "Dividing by 255 , (highest value  the pixel )"
      ]
    },
    {
      "cell_type": "code",
      "metadata": {
        "id": "X2m4YS4E9CRh",
        "colab_type": "code",
        "colab": {}
      },
      "source": [
        "X_train = X_train.astype('float32')\n",
        "X_test = X_test.astype('float32')\n",
        "X_train /= 255\n",
        "X_test /= 255"
      ],
      "execution_count": 0,
      "outputs": []
    },
    {
      "cell_type": "code",
      "metadata": {
        "id": "0Mn0vAYD9DvB",
        "colab_type": "code",
        "outputId": "be7e55b4-c3f2-4f79-c275-88ea9a64dc74",
        "colab": {
          "base_uri": "https://localhost:8080/",
          "height": 34
        }
      },
      "source": [
        "y_train[:10]"
      ],
      "execution_count": 145,
      "outputs": [
        {
          "output_type": "execute_result",
          "data": {
            "text/plain": [
              "array([5, 0, 4, 1, 9, 2, 1, 3, 1, 4], dtype=uint8)"
            ]
          },
          "metadata": {
            "tags": []
          },
          "execution_count": 145
        }
      ]
    },
    {
      "cell_type": "markdown",
      "metadata": {
        "id": "xUTPo8He73KV",
        "colab_type": "text"
      },
      "source": [
        "##Convert 1-dimensional class arrays to 10-dimensional class matrices"
      ]
    },
    {
      "cell_type": "code",
      "metadata": {
        "id": "ZG8JiXR39FHC",
        "colab_type": "code",
        "colab": {}
      },
      "source": [
        "# Convert 1-dimensional class arrays to 10-dimensional class matrices\n",
        "Y_train = np_utils.to_categorical(y_train, 10)\n",
        "Y_test = np_utils.to_categorical(y_test, 10)"
      ],
      "execution_count": 0,
      "outputs": []
    },
    {
      "cell_type": "code",
      "metadata": {
        "id": "fYlFRvKS9HMB",
        "colab_type": "code",
        "outputId": "8605b2a5-f99b-4990-d4ad-d16c8365800e",
        "colab": {
          "base_uri": "https://localhost:8080/",
          "height": 187
        }
      },
      "source": [
        "Y_train[:10]\n"
      ],
      "execution_count": 147,
      "outputs": [
        {
          "output_type": "execute_result",
          "data": {
            "text/plain": [
              "array([[0., 0., 0., 0., 0., 1., 0., 0., 0., 0.],\n",
              "       [1., 0., 0., 0., 0., 0., 0., 0., 0., 0.],\n",
              "       [0., 0., 0., 0., 1., 0., 0., 0., 0., 0.],\n",
              "       [0., 1., 0., 0., 0., 0., 0., 0., 0., 0.],\n",
              "       [0., 0., 0., 0., 0., 0., 0., 0., 0., 1.],\n",
              "       [0., 0., 1., 0., 0., 0., 0., 0., 0., 0.],\n",
              "       [0., 1., 0., 0., 0., 0., 0., 0., 0., 0.],\n",
              "       [0., 0., 0., 1., 0., 0., 0., 0., 0., 0.],\n",
              "       [0., 1., 0., 0., 0., 0., 0., 0., 0., 0.],\n",
              "       [0., 0., 0., 0., 1., 0., 0., 0., 0., 0.]], dtype=float32)"
            ]
          },
          "metadata": {
            "tags": []
          },
          "execution_count": 147
        }
      ]
    },
    {
      "cell_type": "markdown",
      "metadata": {
        "id": "kQfzd_OB77gr",
        "colab_type": "text"
      },
      "source": [
        "##Buiding a sequential model"
      ]
    },
    {
      "cell_type": "code",
      "metadata": {
        "id": "osKqT73Q9JJB",
        "colab_type": "code",
        "outputId": "5ff7ecf3-c18a-4580-c6df-8b0b9f9e70d7",
        "colab": {
          "base_uri": "https://localhost:8080/",
          "height": 190
        }
      },
      "source": [
        "# from keras.layers import Activation\n",
        "# model = Sequential()\n",
        "\n",
        " \n",
        "# model.add(Convolution2D(32, 3, 3, activation='relu', input_shape=(28,28,1)))\n",
        "# model.add(Convolution2D(10, 1, activation='relu'))\n",
        "# model.add(Convolution2D(32, 3, 3, activation='relu'))\n",
        "# model.add(Convolution2D(10, 1, activation='relu'))\n",
        "# model.add(maxpooling)\n",
        "# model.add(Convolution2D(10, 26))\n",
        "# model.add(Flatten())\n",
        "# model.add(Activation('softmax'))\n",
        "\n",
        "from keras.layers import Activation\n",
        "from keras.layers import MaxPooling2D\n",
        "model = Sequential()\n",
        "\n",
        "model.add(Convolution2D(16,3,3,activation='relu', input_shape=(28,28,1)))\n",
        "# channels = 16 , kernel_size = (3,3) , receptive field = 3 ,giving input of size = 28x28,output_size = 26x26\n",
        "\n",
        "model.add(Convolution2D(10, 1, activation='relu'))                     \n",
        "# channels = 10 , kernel_size = (1,1) , receptive field = 3 ,output_size = 26x26\n",
        "\n",
        "model.add(Convolution2D(32,3,3,activation='relu'))\n",
        "# channels = 32 , kernel_size = (3,3) , receptive field = 5 ,output_size = 24x24\n",
        "\n",
        "model.add(Convolution2D(10, 1, activation='relu'))\n",
        "# channels = 10 , kernel_size = (1,1) , receptive field = 5 ,output_size = 24x24\n",
        "\n",
        "model.add(MaxPooling2D(pool_size=(2, 2), strides=None, padding='valid', data_format=None))\n",
        "# Max_pooling =>  out_channels = 10 , kernel_size = (2,2) , receptive field = 10 ,output_size = 12x12 \n",
        "\n",
        "model.add(Convolution2D(16,3,3,activation='relu'))\n",
        "# out_channels = 16 , kernel_size = (3,3) , receptive field = 12 ,output_size = 10x10\n",
        "\n",
        "model.add(Convolution2D(10, 1, activation='relu'))\n",
        "# out_channels = 10 , kernel_size = (1,1) , receptive field = 12 ,output_size = 10x10\n",
        "\n",
        "model.add(Dropout((0.1)))\n",
        "#Dropping out 10% of pixels in the output channels\n",
        "\n",
        "model.add(Convolution2D(32,3,3,activation='relu'))\n",
        "# out_channels = 32 , kernel_size = (3,3) , receptive field = 14 ,output_size = 8x8\n",
        "\n",
        "model.add(Convolution2D(10, 1, activation='relu'))\n",
        "# out_channels = 10 , kernel_size = (1,1) , receptive field = 14 ,output_size = 8x8\n",
        "\n",
        "model.add(Dropout((0.2)))\n",
        "#Dropping out 20% of pixels in the output channels\n",
        "\n",
        "model.add(Convolution2D(64,3,3,activation='relu'))\n",
        "# out_channels = 64 , kernel_size = (3,3) , receptive field = 16 ,output_size = 6x6\n",
        "\n",
        "model.add(Convolution2D(10, 1, activation='relu'))\n",
        "# out_channels = 10 , kernel_size = (1,1) , receptive field = 16 ,output_size = 6x6\n",
        "\n",
        "model.add(Dropout((0.3)))\n",
        "#Dropping out 20% of pixels in the output channels\n",
        "\n",
        "model.add(Convolution2D(10,6))\n",
        "# out_channels = 10 , kernel_size = (6,6) , receptive field = 28 ,output_size = 1x1\n",
        "\n",
        "model.add(Dropout((0.1)))\n",
        "#Dropping out 10% of pixels in the output channels\n",
        "\n",
        "model.add(Flatten()) \n",
        "#Flattens the output pixels (1-D array)\n",
        "\n",
        "\n",
        "model.add(Activation('softmax'))\n",
        "# Softmax  to give a better convincing output"
      ],
      "execution_count": 192,
      "outputs": [
        {
          "output_type": "stream",
          "text": [
            "/usr/local/lib/python3.6/dist-packages/ipykernel_launcher.py:6: UserWarning: Update your `Conv2D` call to the Keras 2 API: `Conv2D(16, (3, 3), activation=\"relu\", input_shape=(28, 28, 1...)`\n",
            "  \n",
            "/usr/local/lib/python3.6/dist-packages/ipykernel_launcher.py:8: UserWarning: Update your `Conv2D` call to the Keras 2 API: `Conv2D(32, (3, 3), activation=\"relu\")`\n",
            "  \n",
            "/usr/local/lib/python3.6/dist-packages/ipykernel_launcher.py:12: UserWarning: Update your `Conv2D` call to the Keras 2 API: `Conv2D(16, (3, 3), activation=\"relu\")`\n",
            "  if sys.path[0] == '':\n",
            "/usr/local/lib/python3.6/dist-packages/ipykernel_launcher.py:15: UserWarning: Update your `Conv2D` call to the Keras 2 API: `Conv2D(32, (3, 3), activation=\"relu\")`\n",
            "  from ipykernel import kernelapp as app\n",
            "/usr/local/lib/python3.6/dist-packages/ipykernel_launcher.py:18: UserWarning: Update your `Conv2D` call to the Keras 2 API: `Conv2D(64, (3, 3), activation=\"relu\")`\n"
          ],
          "name": "stderr"
        }
      ]
    },
    {
      "cell_type": "code",
      "metadata": {
        "id": "TzdAYg1k9K7Z",
        "colab_type": "code",
        "outputId": "bcc67eaf-1ceb-4bec-ee48-e5033b8519dd",
        "colab": {
          "base_uri": "https://localhost:8080/",
          "height": 748
        }
      },
      "source": [
        "model.summary()"
      ],
      "execution_count": 210,
      "outputs": [
        {
          "output_type": "stream",
          "text": [
            "_________________________________________________________________\n",
            "Layer (type)                 Output Shape              Param #   \n",
            "=================================================================\n",
            "conv2d_378 (Conv2D)          (None, 26, 26, 16)        160       \n",
            "_________________________________________________________________\n",
            "conv2d_379 (Conv2D)          (None, 26, 26, 10)        170       \n",
            "_________________________________________________________________\n",
            "conv2d_380 (Conv2D)          (None, 24, 24, 32)        2912      \n",
            "_________________________________________________________________\n",
            "conv2d_381 (Conv2D)          (None, 24, 24, 10)        330       \n",
            "_________________________________________________________________\n",
            "max_pooling2d_39 (MaxPooling (None, 12, 12, 10)        0         \n",
            "_________________________________________________________________\n",
            "conv2d_382 (Conv2D)          (None, 10, 10, 16)        1456      \n",
            "_________________________________________________________________\n",
            "conv2d_383 (Conv2D)          (None, 10, 10, 10)        170       \n",
            "_________________________________________________________________\n",
            "dropout_87 (Dropout)         (None, 10, 10, 10)        0         \n",
            "_________________________________________________________________\n",
            "conv2d_384 (Conv2D)          (None, 8, 8, 32)          2912      \n",
            "_________________________________________________________________\n",
            "conv2d_385 (Conv2D)          (None, 8, 8, 10)          330       \n",
            "_________________________________________________________________\n",
            "dropout_88 (Dropout)         (None, 8, 8, 10)          0         \n",
            "_________________________________________________________________\n",
            "conv2d_386 (Conv2D)          (None, 6, 6, 64)          5824      \n",
            "_________________________________________________________________\n",
            "conv2d_387 (Conv2D)          (None, 6, 6, 10)          650       \n",
            "_________________________________________________________________\n",
            "dropout_89 (Dropout)         (None, 6, 6, 10)          0         \n",
            "_________________________________________________________________\n",
            "conv2d_388 (Conv2D)          (None, 1, 1, 10)          3610      \n",
            "_________________________________________________________________\n",
            "dropout_90 (Dropout)         (None, 1, 1, 10)          0         \n",
            "_________________________________________________________________\n",
            "flatten_32 (Flatten)         (None, 10)                0         \n",
            "_________________________________________________________________\n",
            "activation_34 (Activation)   (None, 10)                0         \n",
            "=================================================================\n",
            "Total params: 18,524\n",
            "Trainable params: 18,524\n",
            "Non-trainable params: 0\n",
            "_________________________________________________________________\n"
          ],
          "name": "stdout"
        }
      ]
    },
    {
      "cell_type": "markdown",
      "metadata": {
        "id": "Spi0QH73BQhG",
        "colab_type": "text"
      },
      "source": [
        "##Importing Model checkpoint\n",
        "\n",
        "The model check point is used to store the model weight at specific points"
      ]
    },
    {
      "cell_type": "code",
      "metadata": {
        "id": "KvIEjXnXLSuf",
        "colab_type": "code",
        "colab": {}
      },
      "source": [
        "from keras.callbacks import  ModelCheckpoint\n",
        "\n",
        "filepath=\"/content/gdrive/My Drive/Colab Notebooks/EVA/epochs:{epoch:03d}-acc:{val_acc:.3f}.hdf5\"\n",
        "#file path store weights in google drive\n",
        "\n",
        "checkpoint = ModelCheckpoint(filepath, monitor='val_acc', verbose=1, save_best_only=True, mode='max')\n",
        "# Store the weights when the validation accuracy increases"
      ],
      "execution_count": 0,
      "outputs": []
    },
    {
      "cell_type": "markdown",
      "metadata": {
        "id": "TDoXj6whCGxC",
        "colab_type": "text"
      },
      "source": [
        "##Compiling the model\n",
        "\n",
        "categorical_crossentropy is used as loss function\n",
        "\n",
        "Adam with learning rate of 0.001 is optimizer\n",
        "\n",
        "Accuracy is taken as metric"
      ]
    },
    {
      "cell_type": "code",
      "metadata": {
        "id": "Zp6SuGrL9M3h",
        "colab_type": "code",
        "colab": {}
      },
      "source": [
        "model.compile(loss='categorical_crossentropy',\n",
        "             optimizer=keras.optimizers.Adam(lr=0.001, beta_1=0.9, beta_2=0.999, epsilon=None, decay=0.0, amsgrad=False),\n",
        "             metrics=['accuracy'])"
      ],
      "execution_count": 0,
      "outputs": []
    },
    {
      "cell_type": "markdown",
      "metadata": {
        "id": "na26L1IYC49x",
        "colab_type": "text"
      },
      "source": [
        "##Fitting / Training the model\n",
        "\n",
        "batch size  = 128 images\n",
        "Epochs  =  20"
      ]
    },
    {
      "cell_type": "code",
      "metadata": {
        "id": "oFo9LQ-Zri4H",
        "colab_type": "code",
        "colab": {
          "base_uri": "https://localhost:8080/",
          "height": 1445
        },
        "outputId": "80675fcd-b01b-4a78-87a4-3fad81ab07ac"
      },
      "source": [
        "model.fit(X_train, Y_train, batch_size=128, nb_epoch=20, verbose=1,\n",
        "          callbacks=[checkpoint],\n",
        "          validation_data=(X_test, Y_test))"
      ],
      "execution_count": 196,
      "outputs": [
        {
          "output_type": "stream",
          "text": [
            "/usr/local/lib/python3.6/dist-packages/ipykernel_launcher.py:3: UserWarning: The `nb_epoch` argument in `fit` has been renamed `epochs`.\n",
            "  This is separate from the ipykernel package so we can avoid doing imports until\n"
          ],
          "name": "stderr"
        },
        {
          "output_type": "stream",
          "text": [
            "Train on 60000 samples, validate on 10000 samples\n",
            "Epoch 1/20\n",
            "60000/60000 [==============================] - 23s 380us/step - loss: 0.6240 - acc: 0.7836 - val_loss: 0.1297 - val_acc: 0.9572\n",
            "\n",
            "Epoch 00001: val_acc improved from -inf to 0.95720, saving model to /content/gdrive/My Drive/Colab Notebooks/EVA/epochs:001-acc:0.957.hdf5\n",
            "Epoch 2/20\n",
            "60000/60000 [==============================] - 11s 185us/step - loss: 0.2544 - acc: 0.9086 - val_loss: 0.0748 - val_acc: 0.9744\n",
            "\n",
            "Epoch 00002: val_acc improved from 0.95720 to 0.97440, saving model to /content/gdrive/My Drive/Colab Notebooks/EVA/epochs:002-acc:0.974.hdf5\n",
            "Epoch 3/20\n",
            "60000/60000 [==============================] - 11s 180us/step - loss: 0.2040 - acc: 0.9243 - val_loss: 0.0630 - val_acc: 0.9808\n",
            "\n",
            "Epoch 00003: val_acc improved from 0.97440 to 0.98080, saving model to /content/gdrive/My Drive/Colab Notebooks/EVA/epochs:003-acc:0.981.hdf5\n",
            "Epoch 4/20\n",
            "60000/60000 [==============================] - 11s 178us/step - loss: 0.1779 - acc: 0.9311 - val_loss: 0.0472 - val_acc: 0.9841\n",
            "\n",
            "Epoch 00004: val_acc improved from 0.98080 to 0.98410, saving model to /content/gdrive/My Drive/Colab Notebooks/EVA/epochs:004-acc:0.984.hdf5\n",
            "Epoch 5/20\n",
            "60000/60000 [==============================] - 11s 177us/step - loss: 0.1625 - acc: 0.9341 - val_loss: 0.0431 - val_acc: 0.9851\n",
            "\n",
            "Epoch 00005: val_acc improved from 0.98410 to 0.98510, saving model to /content/gdrive/My Drive/Colab Notebooks/EVA/epochs:005-acc:0.985.hdf5\n",
            "Epoch 6/20\n",
            "60000/60000 [==============================] - 11s 176us/step - loss: 0.1482 - acc: 0.9406 - val_loss: 0.0398 - val_acc: 0.9874\n",
            "\n",
            "Epoch 00006: val_acc improved from 0.98510 to 0.98740, saving model to /content/gdrive/My Drive/Colab Notebooks/EVA/epochs:006-acc:0.987.hdf5\n",
            "Epoch 7/20\n",
            "60000/60000 [==============================] - 11s 175us/step - loss: 0.1430 - acc: 0.9414 - val_loss: 0.0418 - val_acc: 0.9865\n",
            "\n",
            "Epoch 00007: val_acc did not improve from 0.98740\n",
            "Epoch 8/20\n",
            "60000/60000 [==============================] - 10s 174us/step - loss: 0.1355 - acc: 0.9425 - val_loss: 0.0343 - val_acc: 0.9908\n",
            "\n",
            "Epoch 00008: val_acc improved from 0.98740 to 0.99080, saving model to /content/gdrive/My Drive/Colab Notebooks/EVA/epochs:008-acc:0.991.hdf5\n",
            "Epoch 9/20\n",
            "60000/60000 [==============================] - 11s 176us/step - loss: 0.1317 - acc: 0.9430 - val_loss: 0.0317 - val_acc: 0.9897\n",
            "\n",
            "Epoch 00009: val_acc did not improve from 0.99080\n",
            "Epoch 10/20\n",
            "60000/60000 [==============================] - 11s 175us/step - loss: 0.1270 - acc: 0.9451 - val_loss: 0.0335 - val_acc: 0.9888\n",
            "\n",
            "Epoch 00010: val_acc did not improve from 0.99080\n",
            "Epoch 11/20\n",
            "60000/60000 [==============================] - 10s 175us/step - loss: 0.1215 - acc: 0.9459 - val_loss: 0.0306 - val_acc: 0.9905\n",
            "\n",
            "Epoch 00011: val_acc did not improve from 0.99080\n",
            "Epoch 12/20\n",
            "60000/60000 [==============================] - 11s 175us/step - loss: 0.1185 - acc: 0.9469 - val_loss: 0.0318 - val_acc: 0.9905\n",
            "\n",
            "Epoch 00012: val_acc did not improve from 0.99080\n",
            "Epoch 13/20\n",
            "60000/60000 [==============================] - 11s 175us/step - loss: 0.1178 - acc: 0.9470 - val_loss: 0.0281 - val_acc: 0.9906\n",
            "\n",
            "Epoch 00013: val_acc did not improve from 0.99080\n",
            "Epoch 14/20\n",
            "60000/60000 [==============================] - 10s 175us/step - loss: 0.1149 - acc: 0.9487 - val_loss: 0.0322 - val_acc: 0.9896\n",
            "\n",
            "Epoch 00014: val_acc did not improve from 0.99080\n",
            "Epoch 15/20\n",
            "60000/60000 [==============================] - 11s 175us/step - loss: 0.1160 - acc: 0.9486 - val_loss: 0.0237 - val_acc: 0.9928\n",
            "\n",
            "Epoch 00015: val_acc improved from 0.99080 to 0.99280, saving model to /content/gdrive/My Drive/Colab Notebooks/EVA/epochs:015-acc:0.993.hdf5\n",
            "Epoch 16/20\n",
            "60000/60000 [==============================] - 11s 175us/step - loss: 0.1127 - acc: 0.9493 - val_loss: 0.0268 - val_acc: 0.9922\n",
            "\n",
            "Epoch 00016: val_acc did not improve from 0.99280\n",
            "Epoch 17/20\n",
            "60000/60000 [==============================] - 11s 175us/step - loss: 0.1085 - acc: 0.9511 - val_loss: 0.0300 - val_acc: 0.9908\n",
            "\n",
            "Epoch 00017: val_acc did not improve from 0.99280\n",
            "Epoch 18/20\n",
            "60000/60000 [==============================] - 10s 175us/step - loss: 0.1084 - acc: 0.9505 - val_loss: 0.0293 - val_acc: 0.9908\n",
            "\n",
            "Epoch 00018: val_acc did not improve from 0.99280\n",
            "Epoch 19/20\n",
            "60000/60000 [==============================] - 11s 176us/step - loss: 0.1068 - acc: 0.9508 - val_loss: 0.0288 - val_acc: 0.9917\n",
            "\n",
            "Epoch 00019: val_acc did not improve from 0.99280\n",
            "Epoch 20/20\n",
            "60000/60000 [==============================] - 10s 175us/step - loss: 0.1061 - acc: 0.9509 - val_loss: 0.0267 - val_acc: 0.9929\n",
            "\n",
            "Epoch 00020: val_acc improved from 0.99280 to 0.99290, saving model to /content/gdrive/My Drive/Colab Notebooks/EVA/epochs:020-acc:0.993.hdf5\n"
          ],
          "name": "stdout"
        },
        {
          "output_type": "execute_result",
          "data": {
            "text/plain": [
              "<keras.callbacks.History at 0x7fd494e39b00>"
            ]
          },
          "metadata": {
            "tags": []
          },
          "execution_count": 196
        }
      ]
    },
    {
      "cell_type": "markdown",
      "metadata": {
        "id": "SWXIcIL8CxKG",
        "colab_type": "text"
      },
      "source": [
        "##Compiling / fitting the model\n",
        "\n",
        "categorical_crossentropy is used as loss function\n",
        "\n",
        "Adam with learning rate of 0.0001 is optimizer\n",
        "\n",
        "Accuracy is taken as metric\n",
        "\n",
        "batch size  = 512 images\n",
        "\n",
        "Epochs  =  20"
      ]
    },
    {
      "cell_type": "code",
      "metadata": {
        "id": "XbvP3-PiyYRj",
        "colab_type": "code",
        "colab": {
          "base_uri": "https://localhost:8080/",
          "height": 1445
        },
        "outputId": "fc874326-7d2e-48eb-c111-8a86bc80466a"
      },
      "source": [
        "model.compile(loss='categorical_crossentropy',\n",
        "             optimizer=keras.optimizers.Adam(lr=0.0001, beta_1=0.9, beta_2=0.999, epsilon=None, decay=0.0, amsgrad=False),\n",
        "             metrics=['accuracy'])\n",
        "model.fit(X_train, Y_train, batch_size=512, nb_epoch=20, verbose=1,\n",
        "          callbacks=[checkpoint],\n",
        "          validation_data=(X_test, Y_test))"
      ],
      "execution_count": 197,
      "outputs": [
        {
          "output_type": "stream",
          "text": [
            "/usr/local/lib/python3.6/dist-packages/ipykernel_launcher.py:6: UserWarning: The `nb_epoch` argument in `fit` has been renamed `epochs`.\n",
            "  \n"
          ],
          "name": "stderr"
        },
        {
          "output_type": "stream",
          "text": [
            "Train on 60000 samples, validate on 10000 samples\n",
            "Epoch 1/20\n",
            "60000/60000 [==============================] - 17s 280us/step - loss: 0.0955 - acc: 0.9542 - val_loss: 0.0220 - val_acc: 0.9933\n",
            "\n",
            "Epoch 00001: val_acc improved from 0.99290 to 0.99330, saving model to /content/gdrive/My Drive/Colab Notebooks/EVA/epochs:001-acc:0.993.hdf5\n",
            "Epoch 2/20\n",
            "60000/60000 [==============================] - 5s 83us/step - loss: 0.0908 - acc: 0.9557 - val_loss: 0.0216 - val_acc: 0.9937\n",
            "\n",
            "Epoch 00002: val_acc improved from 0.99330 to 0.99370, saving model to /content/gdrive/My Drive/Colab Notebooks/EVA/epochs:002-acc:0.994.hdf5\n",
            "Epoch 3/20\n",
            "60000/60000 [==============================] - 5s 82us/step - loss: 0.0902 - acc: 0.9545 - val_loss: 0.0224 - val_acc: 0.9940\n",
            "\n",
            "Epoch 00003: val_acc improved from 0.99370 to 0.99400, saving model to /content/gdrive/My Drive/Colab Notebooks/EVA/epochs:003-acc:0.994.hdf5\n",
            "Epoch 4/20\n",
            "60000/60000 [==============================] - 5s 82us/step - loss: 0.0897 - acc: 0.9552 - val_loss: 0.0220 - val_acc: 0.9937\n",
            "\n",
            "Epoch 00004: val_acc did not improve from 0.99400\n",
            "Epoch 5/20\n",
            "60000/60000 [==============================] - 5s 82us/step - loss: 0.0887 - acc: 0.9564 - val_loss: 0.0217 - val_acc: 0.9940\n",
            "\n",
            "Epoch 00005: val_acc did not improve from 0.99400\n",
            "Epoch 6/20\n",
            "60000/60000 [==============================] - 5s 82us/step - loss: 0.0877 - acc: 0.9557 - val_loss: 0.0217 - val_acc: 0.9939\n",
            "\n",
            "Epoch 00006: val_acc did not improve from 0.99400\n",
            "Epoch 7/20\n",
            "60000/60000 [==============================] - 5s 82us/step - loss: 0.0924 - acc: 0.9551 - val_loss: 0.0211 - val_acc: 0.9942\n",
            "\n",
            "Epoch 00007: val_acc improved from 0.99400 to 0.99420, saving model to /content/gdrive/My Drive/Colab Notebooks/EVA/epochs:007-acc:0.994.hdf5\n",
            "Epoch 8/20\n",
            "60000/60000 [==============================] - 5s 83us/step - loss: 0.0895 - acc: 0.9551 - val_loss: 0.0212 - val_acc: 0.9940\n",
            "\n",
            "Epoch 00008: val_acc did not improve from 0.99420\n",
            "Epoch 9/20\n",
            "60000/60000 [==============================] - 5s 82us/step - loss: 0.0906 - acc: 0.9547 - val_loss: 0.0214 - val_acc: 0.9940\n",
            "\n",
            "Epoch 00009: val_acc did not improve from 0.99420\n",
            "Epoch 10/20\n",
            "60000/60000 [==============================] - 5s 83us/step - loss: 0.0885 - acc: 0.9571 - val_loss: 0.0209 - val_acc: 0.9945\n",
            "\n",
            "Epoch 00010: val_acc improved from 0.99420 to 0.99450, saving model to /content/gdrive/My Drive/Colab Notebooks/EVA/epochs:010-acc:0.994.hdf5\n",
            "Epoch 11/20\n",
            "60000/60000 [==============================] - 5s 82us/step - loss: 0.0889 - acc: 0.9556 - val_loss: 0.0218 - val_acc: 0.9940\n",
            "\n",
            "Epoch 00011: val_acc did not improve from 0.99450\n",
            "Epoch 12/20\n",
            "60000/60000 [==============================] - 5s 82us/step - loss: 0.0905 - acc: 0.9544 - val_loss: 0.0218 - val_acc: 0.9934\n",
            "\n",
            "Epoch 00012: val_acc did not improve from 0.99450\n",
            "Epoch 13/20\n",
            "60000/60000 [==============================] - 5s 82us/step - loss: 0.0903 - acc: 0.9537 - val_loss: 0.0206 - val_acc: 0.9943\n",
            "\n",
            "Epoch 00013: val_acc did not improve from 0.99450\n",
            "Epoch 14/20\n",
            "60000/60000 [==============================] - 5s 83us/step - loss: 0.0870 - acc: 0.9559 - val_loss: 0.0212 - val_acc: 0.9938\n",
            "\n",
            "Epoch 00014: val_acc did not improve from 0.99450\n",
            "Epoch 15/20\n",
            "60000/60000 [==============================] - 5s 82us/step - loss: 0.0897 - acc: 0.9565 - val_loss: 0.0215 - val_acc: 0.9936\n",
            "\n",
            "Epoch 00015: val_acc did not improve from 0.99450\n",
            "Epoch 16/20\n",
            "60000/60000 [==============================] - 5s 83us/step - loss: 0.0897 - acc: 0.9555 - val_loss: 0.0216 - val_acc: 0.9937\n",
            "\n",
            "Epoch 00016: val_acc did not improve from 0.99450\n",
            "Epoch 17/20\n",
            "60000/60000 [==============================] - 5s 83us/step - loss: 0.0866 - acc: 0.9563 - val_loss: 0.0217 - val_acc: 0.9939\n",
            "\n",
            "Epoch 00017: val_acc did not improve from 0.99450\n",
            "Epoch 18/20\n",
            "60000/60000 [==============================] - 5s 82us/step - loss: 0.0885 - acc: 0.9556 - val_loss: 0.0214 - val_acc: 0.9939\n",
            "\n",
            "Epoch 00018: val_acc did not improve from 0.99450\n",
            "Epoch 19/20\n",
            "60000/60000 [==============================] - 5s 82us/step - loss: 0.0868 - acc: 0.9559 - val_loss: 0.0213 - val_acc: 0.9940\n",
            "\n",
            "Epoch 00019: val_acc did not improve from 0.99450\n",
            "Epoch 20/20\n",
            "60000/60000 [==============================] - 5s 83us/step - loss: 0.0879 - acc: 0.9557 - val_loss: 0.0215 - val_acc: 0.9937\n",
            "\n",
            "Epoch 00020: val_acc did not improve from 0.99450\n"
          ],
          "name": "stdout"
        },
        {
          "output_type": "execute_result",
          "data": {
            "text/plain": [
              "<keras.callbacks.History at 0x7fd4941b6940>"
            ]
          },
          "metadata": {
            "tags": []
          },
          "execution_count": 197
        }
      ]
    },
    {
      "cell_type": "markdown",
      "metadata": {
        "id": "m_3APt9fDY5z",
        "colab_type": "text"
      },
      "source": [
        "##Loading the stored model weights\n",
        "(validation accuracy  = 99.45)"
      ]
    },
    {
      "cell_type": "code",
      "metadata": {
        "id": "3ZYiDasLsfA_",
        "colab_type": "code",
        "colab": {}
      },
      "source": [
        "model.load_weights('/content/gdrive/My Drive/Colab Notebooks/EVA/epochs:010-acc:0.994.hdf5')\n",
        "\n",
        "model.compile(loss='categorical_crossentropy',\n",
        "             optimizer=keras.optimizers.Adam(lr=0.000001, beta_1=0.9, beta_2=0.999, epsilon=None, decay=0.0, amsgrad=False),\n",
        "             metrics=['accuracy'])\n"
      ],
      "execution_count": 0,
      "outputs": []
    },
    {
      "cell_type": "markdown",
      "metadata": {
        "id": "xJ6aghLPDxmS",
        "colab_type": "text"
      },
      "source": [
        "##Evaluating the model"
      ]
    },
    {
      "cell_type": "code",
      "metadata": {
        "id": "AtsH-lLk-eLb",
        "colab_type": "code",
        "colab": {}
      },
      "source": [
        "score = model.evaluate(X_test, Y_test, verbose=0)"
      ],
      "execution_count": 0,
      "outputs": []
    },
    {
      "cell_type": "code",
      "metadata": {
        "id": "mkX8JMv79q9r",
        "colab_type": "code",
        "outputId": "8f27bbe0-23ae-4275-9c0f-4175c95652b5",
        "colab": {
          "base_uri": "https://localhost:8080/",
          "height": 34
        }
      },
      "source": [
        "print(score)"
      ],
      "execution_count": 202,
      "outputs": [
        {
          "output_type": "stream",
          "text": [
            "[0.020936242068950013, 0.9945]\n"
          ],
          "name": "stdout"
        }
      ]
    },
    {
      "cell_type": "markdown",
      "metadata": {
        "id": "9xvkWa8WcYWD",
        "colab_type": "text"
      },
      "source": [
        "##Predicting y_test using x_test"
      ]
    },
    {
      "cell_type": "code",
      "metadata": {
        "id": "OCWoJkwE9suh",
        "colab_type": "code",
        "colab": {}
      },
      "source": [
        "y_pred = model.predict(X_test)"
      ],
      "execution_count": 0,
      "outputs": []
    },
    {
      "cell_type": "code",
      "metadata": {
        "id": "Ym7iCFBm9uBs",
        "colab_type": "code",
        "outputId": "4b350e2f-78ab-44ae-bf22-dfb4597c6f5f",
        "colab": {
          "base_uri": "https://localhost:8080/",
          "height": 493
        }
      },
      "source": [
        "print(y_pred[:9])\n",
        "print(y_test[:9])"
      ],
      "execution_count": 204,
      "outputs": [
        {
          "output_type": "stream",
          "text": [
            "[[4.35687007e-11 4.58881787e-11 6.57728876e-08 1.58772039e-07\n",
            "  9.67534700e-14 9.17062259e-11 1.40850846e-18 9.99999762e-01\n",
            "  2.16850964e-11 4.74374273e-09]\n",
            " [2.81716761e-09 4.64737653e-08 9.99998689e-01 3.10121720e-11\n",
            "  3.78317572e-10 3.78733806e-12 1.29042542e-06 1.18629412e-11\n",
            "  3.75594056e-10 1.33588480e-14]\n",
            " [2.01082728e-09 9.99999523e-01 5.79730965e-08 1.15312178e-11\n",
            "  1.71709502e-07 3.62583705e-08 1.68891404e-07 1.41098980e-07\n",
            "  3.47889504e-08 3.81634502e-09]\n",
            " [9.99990344e-01 1.39852718e-09 1.09165796e-08 2.78895449e-08\n",
            "  4.05722966e-09 1.00130755e-07 8.91435320e-06 8.78084094e-09\n",
            "  3.85985231e-07 1.99010188e-07]\n",
            " [7.36909839e-11 1.73101666e-09 2.02361097e-11 3.69316800e-14\n",
            "  9.99997973e-01 3.33389635e-11 1.35897125e-08 1.56327062e-09\n",
            "  4.24847890e-09 1.99420469e-06]\n",
            " [1.06744495e-10 9.99999762e-01 1.00277280e-08 1.14450739e-13\n",
            "  6.14904678e-08 1.01038666e-09 5.97076877e-09 1.43028942e-07\n",
            "  4.49901938e-09 2.21264473e-09]\n",
            " [2.39325893e-13 1.68248869e-06 1.11436989e-07 8.60894078e-10\n",
            "  9.99825656e-01 7.65058303e-07 3.05903469e-13 3.34212345e-05\n",
            "  1.44322394e-06 1.36994524e-04]\n",
            " [4.70658961e-07 3.36464687e-08 1.59412778e-07 1.36770063e-06\n",
            "  2.54092767e-04 4.61821764e-06 1.86394615e-11 1.84895427e-07\n",
            "  6.27683221e-07 9.99738514e-01]\n",
            " [5.05331244e-09 4.38530895e-15 3.29223866e-07 9.08128715e-13\n",
            "  8.71919463e-16 9.99626279e-01 2.80439272e-04 3.76775027e-13\n",
            "  9.29281669e-05 1.75447101e-09]]\n",
            "[7 2 1 0 4 1 4 9 5]\n"
          ],
          "name": "stdout"
        }
      ]
    },
    {
      "cell_type": "code",
      "metadata": {
        "id": "CT--y98_dr2T",
        "colab_type": "code",
        "colab": {}
      },
      "source": [
        "layer_dict = dict([(layer.name, layer) for layer in model.layers])"
      ],
      "execution_count": 0,
      "outputs": []
    },
    {
      "cell_type": "code",
      "metadata": {
        "id": "2GY4Upv4dsUR",
        "colab_type": "code",
        "colab": {}
      },
      "source": [
        "import numpy as np\n",
        "from matplotlib import pyplot as plt\n",
        "from keras import backend as K\n",
        "%matplotlib inline\n",
        "# util function to convert a tensor into a valid image\n",
        "def deprocess_image(x):\n",
        "    # normalize tensor: center on 0., ensure std is 0.1\n",
        "    x -= x.mean()\n",
        "    x /= (x.std() + 1e-5)\n",
        "    x *= 0.1\n",
        "\n",
        "    # clip to [0, 1]\n",
        "    x += 0.5\n",
        "    x = np.clip(x, 0, 1)\n",
        "\n",
        "    # convert to RGB array\n",
        "    x *= 255\n",
        "    #x = x.transpose((1, 2, 0))\n",
        "    x = np.clip(x, 0, 255).astype('uint8')\n",
        "    return x\n",
        "\n",
        "def vis_img_in_filter(img = np.array(X_train[2]).reshape((1, 28, 28, 1)).astype(np.float64), \n",
        "                      layer_name = 'max_pooling2d_39'):\n",
        "    layer_output = layer_dict[layer_name].output\n",
        "    img_ascs = list()\n",
        "    for filter_index in range(layer_output.shape[3]):\n",
        "        # build a loss function that maximizes the activation\n",
        "        # of the nth filter of the layer considered\n",
        "        loss = K.mean(layer_output[:, :, :, filter_index])\n",
        "\n",
        "        # compute the gradient of the input picture wrt this loss\n",
        "        grads = K.gradients(loss, model.input)[0]\n",
        "\n",
        "        # normalization trick: we normalize the gradient\n",
        "        grads /= (K.sqrt(K.mean(K.square(grads))) + 1e-5)\n",
        "\n",
        "        # this function returns the loss and grads given the input picture\n",
        "        iterate = K.function([model.input], [loss, grads])\n",
        "\n",
        "        # step size for gradient ascent\n",
        "        step = 5.\n",
        "\n",
        "        img_asc = np.array(img)\n",
        "        # run gradient ascent for 20 steps\n",
        "        for i in range(20):\n",
        "            loss_value, grads_value = iterate([img_asc])\n",
        "            img_asc += grads_value * step\n",
        "\n",
        "        img_asc = img_asc[0]\n",
        "        img_ascs.append(deprocess_image(img_asc).reshape((28, 28)))\n",
        "        \n",
        "    if layer_output.shape[3] >= 35:\n",
        "        plot_x, plot_y = 6, 6\n",
        "    elif layer_output.shape[3] >= 23:\n",
        "        plot_x, plot_y = 4, 6\n",
        "    elif layer_output.shape[3] >= 11:\n",
        "        plot_x, plot_y = 2, 6\n",
        "    else:\n",
        "        plot_x, plot_y = 1, 2\n",
        "    fig, ax = plt.subplots(plot_x, plot_y, figsize = (12, 12))\n",
        "    ax[0, 0].imshow(img.reshape((28, 28)), cmap = 'gray')\n",
        "    ax[0, 0].set_title('Input image')\n",
        "    fig.suptitle('Input image and %s filters' % (layer_name,))\n",
        "    fig.tight_layout(pad = 0.3, rect = [0, 0, 0.9, 0.9])\n",
        "    for (x, y) in [(i, j) for i in range(plot_x) for j in range(plot_y)]:\n",
        "        if x == 0 and y == 0:\n",
        "            continue\n",
        "        ax[x, y].imshow(img_ascs[x * plot_y + y - 1], cmap = 'gray')\n",
        "        ax[x, y].set_title('filter %d' % (x * plot_y + y - 1))\n",
        "\n",
        "vis_img_in_filter()"
      ],
      "execution_count": 0,
      "outputs": []
    },
    {
      "cell_type": "code",
      "metadata": {
        "id": "fSBj6O74blJL",
        "colab_type": "code",
        "colab": {}
      },
      "source": [
        ""
      ],
      "execution_count": 0,
      "outputs": []
    }
  ]
}