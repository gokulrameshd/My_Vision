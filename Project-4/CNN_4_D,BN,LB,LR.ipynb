{
  "nbformat": 4,
  "nbformat_minor": 0,
  "metadata": {
    "colab": {
      "name": "CNN_4-D,BN,LB,LR",
      "version": "0.3.2",
      "provenance": []
    },
    "kernelspec": {
      "name": "python3",
      "display_name": "Python 3"
    },
    "accelerator": "GPU"
  },
  "cells": [
    {
      "cell_type": "code",
      "metadata": {
        "id": "N13c1_vdmAf8",
        "colab_type": "code",
        "colab": {}
      },
      "source": [
        ""
      ],
      "execution_count": 0,
      "outputs": []
    },
    {
      "cell_type": "markdown",
      "metadata": {
        "id": "EOidcVeaikfL",
        "colab_type": "text"
      },
      "source": [
        "#-----Dropout ,  Batch  Normalization , Large Batch Size,Learning rate scheduler----\n",
        "\n",
        "---\n",
        "\n"
      ]
    },
    {
      "cell_type": "markdown",
      "metadata": {
        "id": "5NIx6SGG6zqg",
        "colab_type": "text"
      },
      "source": [
        "#Mounting Google drive\n",
        "\n",
        "accessing google drive / authendication"
      ]
    },
    {
      "cell_type": "code",
      "metadata": {
        "id": "uYtEj4qAob3x",
        "colab_type": "code",
        "outputId": "55f13d82-f77e-4811-daf9-06dfb5038ba3",
        "colab": {
          "base_uri": "https://localhost:8080/",
          "height": 122
        }
      },
      "source": [
        "from google.colab import drive\n",
        "drive.mount('/content/gdrive')"
      ],
      "execution_count": 0,
      "outputs": [
        {
          "output_type": "stream",
          "text": [
            "Go to this URL in a browser: https://accounts.google.com/o/oauth2/auth?client_id=947318989803-6bn6qk8qdgf4n4g3pfee6491hc0brc4i.apps.googleusercontent.com&redirect_uri=urn%3Aietf%3Awg%3Aoauth%3A2.0%3Aoob&scope=email%20https%3A%2F%2Fwww.googleapis.com%2Fauth%2Fdocs.test%20https%3A%2F%2Fwww.googleapis.com%2Fauth%2Fdrive%20https%3A%2F%2Fwww.googleapis.com%2Fauth%2Fdrive.photos.readonly%20https%3A%2F%2Fwww.googleapis.com%2Fauth%2Fpeopleapi.readonly&response_type=code\n",
            "\n",
            "Enter your authorization code:\n",
            "··········\n",
            "Mounted at /content/gdrive\n"
          ],
          "name": "stdout"
        }
      ]
    },
    {
      "cell_type": "markdown",
      "metadata": {
        "id": "aNyZv-Ec52ot",
        "colab_type": "text"
      },
      "source": [
        "# **Import Libraries and modules**"
      ]
    },
    {
      "cell_type": "code",
      "metadata": {
        "id": "3m3w1Cw49Zkt",
        "colab_type": "code",
        "colab": {}
      },
      "source": [
        "# https://keras.io/\n",
        "!pip install -q keras                                                                                        \n",
        "import keras"
      ],
      "execution_count": 0,
      "outputs": []
    },
    {
      "cell_type": "code",
      "metadata": {
        "id": "Eso6UHE080D4",
        "colab_type": "code",
        "colab": {}
      },
      "source": [
        "import numpy as np\n",
        "\n",
        "from keras.models import Sequential\n",
        "from keras.layers import Dense, Dropout, Activation, Flatten, Add\n",
        "from keras.layers import Convolution2D, MaxPooling2D\n",
        "from keras.utils import np_utils\n",
        "\n",
        "from keras.datasets import mnist"
      ],
      "execution_count": 0,
      "outputs": []
    },
    {
      "cell_type": "markdown",
      "metadata": {
        "id": "zByEi95J86RD",
        "colab_type": "text"
      },
      "source": [
        "### Load pre-shuffled MNIST data into train and test sets"
      ]
    },
    {
      "cell_type": "code",
      "metadata": {
        "id": "7eRM0QWN83PV",
        "colab_type": "code",
        "colab": {}
      },
      "source": [
        "(X_train, y_train), (X_test, y_test) = mnist.load_data()"
      ],
      "execution_count": 0,
      "outputs": []
    },
    {
      "cell_type": "code",
      "metadata": {
        "id": "4a4Be72j8-ZC",
        "colab_type": "code",
        "outputId": "520689f5-1f8a-48d8-b7a1-3a91a62567ef",
        "colab": {
          "base_uri": "https://localhost:8080/",
          "height": 303
        }
      },
      "source": [
        "print (X_train.shape)\n",
        "from matplotlib import pyplot as plt\n",
        "%matplotlib inline\n",
        "plt.imshow(X_train[0])"
      ],
      "execution_count": 316,
      "outputs": [
        {
          "output_type": "stream",
          "text": [
            "(60000, 28, 28)\n"
          ],
          "name": "stdout"
        },
        {
          "output_type": "execute_result",
          "data": {
            "text/plain": [
              "<matplotlib.image.AxesImage at 0x7f2cdbb893c8>"
            ]
          },
          "metadata": {
            "tags": []
          },
          "execution_count": 316
        },
        {
          "output_type": "display_data",
          "data": {
            "image/png": "[encoded data removed]",
            "text/plain": [
              "<Figure size 432x288 with 1 Axes>"
            ]
          },
          "metadata": {
            "tags": []
          }
        }
      ]
    },
    {
      "cell_type": "markdown",
      "metadata": {
        "id": "V-Ld02pq7P0d",
        "colab_type": "text"
      },
      "source": [
        "##Reshaping the x_train and x_test"
      ]
    },
    {
      "cell_type": "code",
      "metadata": {
        "id": "dkmprriw9AnZ",
        "colab_type": "code",
        "colab": {}
      },
      "source": [
        "X_train = X_train.reshape(X_train.shape[0], 28, 28,1)\n",
        "X_test = X_test.reshape(X_test.shape[0], 28, 28,1)"
      ],
      "execution_count": 0,
      "outputs": []
    },
    {
      "cell_type": "markdown",
      "metadata": {
        "id": "Q7-DHorI7g-j",
        "colab_type": "text"
      },
      "source": [
        "##Normalizing /Scaling\n",
        "\n",
        "Dividing by 255 , (highest value  the pixel )"
      ]
    },
    {
      "cell_type": "code",
      "metadata": {
        "id": "X2m4YS4E9CRh",
        "colab_type": "code",
        "colab": {}
      },
      "source": [
        "X_train = X_train.astype('float32')\n",
        "X_test = X_test.astype('float32')\n",
        "X_train /= 255\n",
        "X_test /= 255"
      ],
      "execution_count": 0,
      "outputs": []
    },
    {
      "cell_type": "code",
      "metadata": {
        "id": "0Mn0vAYD9DvB",
        "colab_type": "code",
        "outputId": "9a893ce8-f5e5-4d47-e9c4-ce650236aa42",
        "colab": {
          "base_uri": "https://localhost:8080/",
          "height": 34
        }
      },
      "source": [
        "y_train[:10]"
      ],
      "execution_count": 319,
      "outputs": [
        {
          "output_type": "execute_result",
          "data": {
            "text/plain": [
              "array([5, 0, 4, 1, 9, 2, 1, 3, 1, 4], dtype=uint8)"
            ]
          },
          "metadata": {
            "tags": []
          },
          "execution_count": 319
        }
      ]
    },
    {
      "cell_type": "markdown",
      "metadata": {
        "id": "xUTPo8He73KV",
        "colab_type": "text"
      },
      "source": [
        "##Convert 1-dimensional class arrays to 10-dimensional class matrices"
      ]
    },
    {
      "cell_type": "code",
      "metadata": {
        "id": "ZG8JiXR39FHC",
        "colab_type": "code",
        "colab": {}
      },
      "source": [
        "# Convert 1-dimensional class arrays to 10-dimensional class matrices\n",
        "Y_train = np_utils.to_categorical(y_train, 10)\n",
        "Y_test = np_utils.to_categorical(y_test, 10)"
      ],
      "execution_count": 0,
      "outputs": []
    },
    {
      "cell_type": "code",
      "metadata": {
        "id": "fYlFRvKS9HMB",
        "colab_type": "code",
        "outputId": "05752b5d-0fbe-43c2-aa96-7d5dec2d9bc7",
        "colab": {
          "base_uri": "https://localhost:8080/",
          "height": 187
        }
      },
      "source": [
        "Y_train[:10]\n"
      ],
      "execution_count": 321,
      "outputs": [
        {
          "output_type": "execute_result",
          "data": {
            "text/plain": [
              "array([[0., 0., 0., 0., 0., 1., 0., 0., 0., 0.],\n",
              "       [1., 0., 0., 0., 0., 0., 0., 0., 0., 0.],\n",
              "       [0., 0., 0., 0., 1., 0., 0., 0., 0., 0.],\n",
              "       [0., 1., 0., 0., 0., 0., 0., 0., 0., 0.],\n",
              "       [0., 0., 0., 0., 0., 0., 0., 0., 0., 1.],\n",
              "       [0., 0., 1., 0., 0., 0., 0., 0., 0., 0.],\n",
              "       [0., 1., 0., 0., 0., 0., 0., 0., 0., 0.],\n",
              "       [0., 0., 0., 1., 0., 0., 0., 0., 0., 0.],\n",
              "       [0., 1., 0., 0., 0., 0., 0., 0., 0., 0.],\n",
              "       [0., 0., 0., 0., 1., 0., 0., 0., 0., 0.]], dtype=float32)"
            ]
          },
          "metadata": {
            "tags": []
          },
          "execution_count": 321
        }
      ]
    },
    {
      "cell_type": "markdown",
      "metadata": {
        "id": "kQfzd_OB77gr",
        "colab_type": "text"
      },
      "source": [
        "##Buiding a sequential model"
      ]
    },
    {
      "cell_type": "code",
      "metadata": {
        "id": "qCi3cxLQ7dPR",
        "colab_type": "code",
        "colab": {
          "base_uri": "https://localhost:8080/",
          "height": 1125
        },
        "outputId": "d9f01dcd-fd5c-4fbd-e4fe-eff157483460"
      },
      "source": [
        "from keras.layers import Activation, MaxPooling2D, BatchNormalization, Dropout\n",
        "\n",
        "# Model is built by stacking layers using keras sequential model\n",
        "# Convolution block is followed by a transition block\n",
        "\n",
        "model = Sequential() \n",
        "model.add(Convolution2D(16, 3, 3, activation='relu', input_shape=(28,28,1))) \n",
        "model.add(BatchNormalization())\n",
        "model.add(Dropout(0.1))\n",
        "\n",
        "model.add(Convolution2D(16, 3, 3, activation='relu'))\n",
        "model.add(BatchNormalization())\n",
        "model.add(Dropout(0.1))\n",
        "\n",
        "model.add(MaxPooling2D(pool_size=(2, 2)))\n",
        "model.add(Convolution2D(10,1,activation='relu'))\n",
        "model.add(BatchNormalization())\n",
        "\n",
        "model.add(Convolution2D(10, 3, 3, activation='relu'))\n",
        "model.add(BatchNormalization())\n",
        "model.add(Dropout(0.1))\n",
        "\n",
        "model.add(Convolution2D(16, 3, 3, activation='relu'))\n",
        "model.add(BatchNormalization())\n",
        "model.add(Dropout(0.1))\n",
        "#model.add(Convolution2D(10,1,activation='relu'))\n",
        "model.add(BatchNormalization())\n",
        "model.add(Convolution2D(32, 3, 3, activation='relu'))\n",
        "model.add(BatchNormalization())\n",
        "model.add(Dropout(0.1))\n",
        "\n",
        "\n",
        "model.add(Convolution2D(10,1))\n",
        "model.add(BatchNormalization())\n",
        "model.add(Dropout(0.1))\n",
        "model.add(Convolution2D(10,6))\n",
        "model.add(Flatten())                                                        \n",
        "model.add(Activation('softmax'))                                            \n",
        "\n",
        "model.summary()"
      ],
      "execution_count": 375,
      "outputs": [
        {
          "output_type": "stream",
          "text": [
            "/usr/local/lib/python3.6/dist-packages/ipykernel_launcher.py:7: UserWarning: Update your `Conv2D` call to the Keras 2 API: `Conv2D(16, (3, 3), activation=\"relu\", input_shape=(28, 28, 1...)`\n",
            "  import sys\n",
            "/usr/local/lib/python3.6/dist-packages/ipykernel_launcher.py:11: UserWarning: Update your `Conv2D` call to the Keras 2 API: `Conv2D(16, (3, 3), activation=\"relu\")`\n",
            "  # This is added back by InteractiveShellApp.init_path()\n",
            "/usr/local/lib/python3.6/dist-packages/ipykernel_launcher.py:19: UserWarning: Update your `Conv2D` call to the Keras 2 API: `Conv2D(10, (3, 3), activation=\"relu\")`\n",
            "/usr/local/lib/python3.6/dist-packages/ipykernel_launcher.py:23: UserWarning: Update your `Conv2D` call to the Keras 2 API: `Conv2D(16, (3, 3), activation=\"relu\")`\n",
            "/usr/local/lib/python3.6/dist-packages/ipykernel_launcher.py:28: UserWarning: Update your `Conv2D` call to the Keras 2 API: `Conv2D(32, (3, 3), activation=\"relu\")`\n"
          ],
          "name": "stderr"
        },
        {
          "output_type": "stream",
          "text": [
            "_________________________________________________________________\n",
            "Layer (type)                 Output Shape              Param #   \n",
            "=================================================================\n",
            "conv2d_955 (Conv2D)          (None, 26, 26, 16)        160       \n",
            "_________________________________________________________________\n",
            "batch_normalization_460 (Bat (None, 26, 26, 16)        64        \n",
            "_________________________________________________________________\n",
            "dropout_545 (Dropout)        (None, 26, 26, 16)        0         \n",
            "_________________________________________________________________\n",
            "conv2d_956 (Conv2D)          (None, 24, 24, 16)        2320      \n",
            "_________________________________________________________________\n",
            "batch_normalization_461 (Bat (None, 24, 24, 16)        64        \n",
            "_________________________________________________________________\n",
            "dropout_546 (Dropout)        (None, 24, 24, 16)        0         \n",
            "_________________________________________________________________\n",
            "max_pooling2d_84 (MaxPooling (None, 12, 12, 16)        0         \n",
            "_________________________________________________________________\n",
            "conv2d_957 (Conv2D)          (None, 12, 12, 10)        170       \n",
            "_________________________________________________________________\n",
            "batch_normalization_462 (Bat (None, 12, 12, 10)        40        \n",
            "_________________________________________________________________\n",
            "conv2d_958 (Conv2D)          (None, 10, 10, 10)        910       \n",
            "_________________________________________________________________\n",
            "batch_normalization_463 (Bat (None, 10, 10, 10)        40        \n",
            "_________________________________________________________________\n",
            "dropout_547 (Dropout)        (None, 10, 10, 10)        0         \n",
            "_________________________________________________________________\n",
            "conv2d_959 (Conv2D)          (None, 8, 8, 16)          1456      \n",
            "_________________________________________________________________\n",
            "batch_normalization_464 (Bat (None, 8, 8, 16)          64        \n",
            "_________________________________________________________________\n",
            "dropout_548 (Dropout)        (None, 8, 8, 16)          0         \n",
            "_________________________________________________________________\n",
            "batch_normalization_465 (Bat (None, 8, 8, 16)          64        \n",
            "_________________________________________________________________\n",
            "conv2d_960 (Conv2D)          (None, 6, 6, 32)          4640      \n",
            "_________________________________________________________________\n",
            "batch_normalization_466 (Bat (None, 6, 6, 32)          128       \n",
            "_________________________________________________________________\n",
            "dropout_549 (Dropout)        (None, 6, 6, 32)          0         \n",
            "_________________________________________________________________\n",
            "conv2d_961 (Conv2D)          (None, 6, 6, 10)          330       \n",
            "_________________________________________________________________\n",
            "batch_normalization_467 (Bat (None, 6, 6, 10)          40        \n",
            "_________________________________________________________________\n",
            "dropout_550 (Dropout)        (None, 6, 6, 10)          0         \n",
            "_________________________________________________________________\n",
            "conv2d_962 (Conv2D)          (None, 1, 1, 10)          3610      \n",
            "_________________________________________________________________\n",
            "flatten_90 (Flatten)         (None, 10)                0         \n",
            "_________________________________________________________________\n",
            "activation_90 (Activation)   (None, 10)                0         \n",
            "=================================================================\n",
            "Total params: 14,100\n",
            "Trainable params: 13,848\n",
            "Non-trainable params: 252\n",
            "_________________________________________________________________\n"
          ],
          "name": "stdout"
        }
      ]
    },
    {
      "cell_type": "code",
      "metadata": {
        "id": "TzdAYg1k9K7Z",
        "colab_type": "code",
        "outputId": "28236f8e-671a-478d-ac9a-090692121bdb",
        "colab": {
          "base_uri": "https://localhost:8080/",
          "height": 986
        }
      },
      "source": [
        "model.summary()"
      ],
      "execution_count": 376,
      "outputs": [
        {
          "output_type": "stream",
          "text": [
            "_________________________________________________________________\n",
            "Layer (type)                 Output Shape              Param #   \n",
            "=================================================================\n",
            "conv2d_955 (Conv2D)          (None, 26, 26, 16)        160       \n",
            "_________________________________________________________________\n",
            "batch_normalization_460 (Bat (None, 26, 26, 16)        64        \n",
            "_________________________________________________________________\n",
            "dropout_545 (Dropout)        (None, 26, 26, 16)        0         \n",
            "_________________________________________________________________\n",
            "conv2d_956 (Conv2D)          (None, 24, 24, 16)        2320      \n",
            "_________________________________________________________________\n",
            "batch_normalization_461 (Bat (None, 24, 24, 16)        64        \n",
            "_________________________________________________________________\n",
            "dropout_546 (Dropout)        (None, 24, 24, 16)        0         \n",
            "_________________________________________________________________\n",
            "max_pooling2d_84 (MaxPooling (None, 12, 12, 16)        0         \n",
            "_________________________________________________________________\n",
            "conv2d_957 (Conv2D)          (None, 12, 12, 10)        170       \n",
            "_________________________________________________________________\n",
            "batch_normalization_462 (Bat (None, 12, 12, 10)        40        \n",
            "_________________________________________________________________\n",
            "conv2d_958 (Conv2D)          (None, 10, 10, 10)        910       \n",
            "_________________________________________________________________\n",
            "batch_normalization_463 (Bat (None, 10, 10, 10)        40        \n",
            "_________________________________________________________________\n",
            "dropout_547 (Dropout)        (None, 10, 10, 10)        0         \n",
            "_________________________________________________________________\n",
            "conv2d_959 (Conv2D)          (None, 8, 8, 16)          1456      \n",
            "_________________________________________________________________\n",
            "batch_normalization_464 (Bat (None, 8, 8, 16)          64        \n",
            "_________________________________________________________________\n",
            "dropout_548 (Dropout)        (None, 8, 8, 16)          0         \n",
            "_________________________________________________________________\n",
            "batch_normalization_465 (Bat (None, 8, 8, 16)          64        \n",
            "_________________________________________________________________\n",
            "conv2d_960 (Conv2D)          (None, 6, 6, 32)          4640      \n",
            "_________________________________________________________________\n",
            "batch_normalization_466 (Bat (None, 6, 6, 32)          128       \n",
            "_________________________________________________________________\n",
            "dropout_549 (Dropout)        (None, 6, 6, 32)          0         \n",
            "_________________________________________________________________\n",
            "conv2d_961 (Conv2D)          (None, 6, 6, 10)          330       \n",
            "_________________________________________________________________\n",
            "batch_normalization_467 (Bat (None, 6, 6, 10)          40        \n",
            "_________________________________________________________________\n",
            "dropout_550 (Dropout)        (None, 6, 6, 10)          0         \n",
            "_________________________________________________________________\n",
            "conv2d_962 (Conv2D)          (None, 1, 1, 10)          3610      \n",
            "_________________________________________________________________\n",
            "flatten_90 (Flatten)         (None, 10)                0         \n",
            "_________________________________________________________________\n",
            "activation_90 (Activation)   (None, 10)                0         \n",
            "=================================================================\n",
            "Total params: 14,100\n",
            "Trainable params: 13,848\n",
            "Non-trainable params: 252\n",
            "_________________________________________________________________\n"
          ],
          "name": "stdout"
        }
      ]
    },
    {
      "cell_type": "markdown",
      "metadata": {
        "id": "Spi0QH73BQhG",
        "colab_type": "text"
      },
      "source": [
        "##Importing Model checkpoint\n",
        "\n",
        "The model check point is used to store the model weight at specific points"
      ]
    },
    {
      "cell_type": "code",
      "metadata": {
        "id": "t-g178p6oecF",
        "colab_type": "code",
        "colab": {}
      },
      "source": [
        "from keras.optimizers import Adam\n",
        "from keras.callbacks import LearningRateScheduler\n"
      ],
      "execution_count": 0,
      "outputs": []
    },
    {
      "cell_type": "code",
      "metadata": {
        "id": "KvIEjXnXLSuf",
        "colab_type": "code",
        "colab": {}
      },
      "source": [
        "from keras.callbacks import  ModelCheckpoint\n",
        "\n",
        "filepath=\"/content/gdrive/My Drive/Colab Notebooks/EVA/4/epochs:{epoch:03d}-val_acc:{val_acc:.3f}.hdf5\"\n",
        "#file path store weights in google drive\n",
        "\n",
        "checkpoint = ModelCheckpoint(filepath, monitor='val_acc', verbose=1, save_best_only=True, mode='max')\n",
        "# Store the weights when the validation accuracy increases"
      ],
      "execution_count": 0,
      "outputs": []
    },
    {
      "cell_type": "markdown",
      "metadata": {
        "id": "TDoXj6whCGxC",
        "colab_type": "text"
      },
      "source": [
        "##Compiling the model\n",
        "\n",
        "categorical_crossentropy is used as loss function\n",
        "\n",
        "Adam with learning rate of 0.001 is optimizer\n",
        "\n",
        "Accuracy is taken as metric"
      ]
    },
    {
      "cell_type": "code",
      "metadata": {
        "id": "Zp6SuGrL9M3h",
        "colab_type": "code",
        "colab": {}
      },
      "source": [
        "model.compile(loss='categorical_crossentropy',\n",
        "             optimizer=Adam(lr=0.003),\n",
        "             metrics=['accuracy'])\n",
        "\n",
        "def scheduler(epoch, lr):\n",
        "  return round(0.003 * 1/(1 + 0.319 * epoch), 10)"
      ],
      "execution_count": 0,
      "outputs": []
    },
    {
      "cell_type": "markdown",
      "metadata": {
        "id": "na26L1IYC49x",
        "colab_type": "text"
      },
      "source": [
        "##Fitting / Training the model\n",
        "\n",
        "batch size  = 128 images\n",
        "Epochs  =  10"
      ]
    },
    {
      "cell_type": "code",
      "metadata": {
        "id": "oFo9LQ-Zri4H",
        "colab_type": "code",
        "outputId": "010cf1e8-e55f-4d63-c7b6-b1f89db1f6f7",
        "colab": {
          "base_uri": "https://localhost:8080/",
          "height": 1105
        }
      },
      "source": [
        "\n",
        "\n",
        "model.fit(X_train, Y_train, batch_size=128, nb_epoch=10, verbose=1,\n",
        "         callbacks=[checkpoint,LearningRateScheduler(scheduler, verbose=1)],\n",
        "          validation_data=(X_test, Y_test))"
      ],
      "execution_count": 380,
      "outputs": [
        {
          "output_type": "stream",
          "text": [
            "/usr/local/lib/python3.6/dist-packages/ipykernel_launcher.py:5: UserWarning: The `nb_epoch` argument in `fit` has been renamed `epochs`.\n",
            "  \"\"\"\n"
          ],
          "name": "stderr"
        },
        {
          "output_type": "stream",
          "text": [
            "Train on 60000 samples, validate on 10000 samples\n",
            "Epoch 1/10\n",
            "\n",
            "Epoch 00001: LearningRateScheduler setting learning rate to 0.003.\n",
            "60000/60000 [==============================] - 62s 1ms/step - loss: 0.1866 - acc: 0.9418 - val_loss: 0.0789 - val_acc: 0.9760\n",
            "\n",
            "Epoch 00001: val_acc improved from -inf to 0.97600, saving model to /content/gdrive/My Drive/Colab Notebooks/EVA/4/epochs:001-val_acc:0.976.hdf5\n",
            "Epoch 2/10\n",
            "\n",
            "Epoch 00002: LearningRateScheduler setting learning rate to 0.0022744503.\n",
            "60000/60000 [==============================] - 11s 176us/step - loss: 0.0660 - acc: 0.9795 - val_loss: 0.0738 - val_acc: 0.9770\n",
            "\n",
            "Epoch 00002: val_acc improved from 0.97600 to 0.97700, saving model to /content/gdrive/My Drive/Colab Notebooks/EVA/4/epochs:002-val_acc:0.977.hdf5\n",
            "Epoch 3/10\n",
            "\n",
            "Epoch 00003: LearningRateScheduler setting learning rate to 0.0018315018.\n",
            "60000/60000 [==============================] - 11s 177us/step - loss: 0.0536 - acc: 0.9833 - val_loss: 0.0394 - val_acc: 0.9873\n",
            "\n",
            "Epoch 00003: val_acc improved from 0.97700 to 0.98730, saving model to /content/gdrive/My Drive/Colab Notebooks/EVA/4/epochs:003-val_acc:0.987.hdf5\n",
            "Epoch 4/10\n",
            "\n",
            "Epoch 00004: LearningRateScheduler setting learning rate to 0.0015329586.\n",
            "60000/60000 [==============================] - 10s 173us/step - loss: 0.0428 - acc: 0.9867 - val_loss: 0.0280 - val_acc: 0.9918\n",
            "\n",
            "Epoch 00004: val_acc improved from 0.98730 to 0.99180, saving model to /content/gdrive/My Drive/Colab Notebooks/EVA/4/epochs:004-val_acc:0.992.hdf5\n",
            "Epoch 5/10\n",
            "\n",
            "Epoch 00005: LearningRateScheduler setting learning rate to 0.0013181019.\n",
            "60000/60000 [==============================] - 10s 162us/step - loss: 0.0380 - acc: 0.9884 - val_loss: 0.0308 - val_acc: 0.9907\n",
            "\n",
            "Epoch 00005: val_acc did not improve from 0.99180\n",
            "Epoch 6/10\n",
            "\n",
            "Epoch 00006: LearningRateScheduler setting learning rate to 0.0011560694.\n",
            "60000/60000 [==============================] - 10s 162us/step - loss: 0.0358 - acc: 0.9880 - val_loss: 0.0285 - val_acc: 0.9906\n",
            "\n",
            "Epoch 00006: val_acc did not improve from 0.99180\n",
            "Epoch 7/10\n",
            "\n",
            "Epoch 00007: LearningRateScheduler setting learning rate to 0.0010295127.\n",
            "60000/60000 [==============================] - 10s 161us/step - loss: 0.0330 - acc: 0.9897 - val_loss: 0.0247 - val_acc: 0.9915\n",
            "\n",
            "Epoch 00007: val_acc did not improve from 0.99180\n",
            "Epoch 8/10\n",
            "\n",
            "Epoch 00008: LearningRateScheduler setting learning rate to 0.0009279307.\n",
            "60000/60000 [==============================] - 11s 179us/step - loss: 0.0282 - acc: 0.9906 - val_loss: 0.0239 - val_acc: 0.9917\n",
            "\n",
            "Epoch 00008: val_acc did not improve from 0.99180\n",
            "Epoch 9/10\n",
            "\n",
            "Epoch 00009: LearningRateScheduler setting learning rate to 0.0008445946.\n",
            "60000/60000 [==============================] - 10s 162us/step - loss: 0.0285 - acc: 0.9909 - val_loss: 0.0213 - val_acc: 0.9933\n",
            "\n",
            "Epoch 00009: val_acc improved from 0.99180 to 0.99330, saving model to /content/gdrive/My Drive/Colab Notebooks/EVA/4/epochs:009-val_acc:0.993.hdf5\n",
            "Epoch 10/10\n",
            "\n",
            "Epoch 00010: LearningRateScheduler setting learning rate to 0.0007749935.\n",
            "60000/60000 [==============================] - 10s 162us/step - loss: 0.0267 - acc: 0.9910 - val_loss: 0.0214 - val_acc: 0.9926\n",
            "\n",
            "Epoch 00010: val_acc did not improve from 0.99330\n"
          ],
          "name": "stdout"
        },
        {
          "output_type": "execute_result",
          "data": {
            "text/plain": [
              "<keras.callbacks.History at 0x7f2ccd2fe898>"
            ]
          },
          "metadata": {
            "tags": []
          },
          "execution_count": 380
        }
      ]
    },
    {
      "cell_type": "code",
      "metadata": {
        "id": "aEnVW4F_33Cz",
        "colab_type": "code",
        "colab": {
          "base_uri": "https://localhost:8080/",
          "height": 2145
        },
        "outputId": "bb1181a7-7242-4dbb-ab23-df6e3521d2f9"
      },
      "source": [
        "model.fit(X_train, Y_train, batch_size=512, nb_epoch=20, verbose=1,\n",
        "         callbacks=[checkpoint,LearningRateScheduler(scheduler, verbose=1)],\n",
        "          validation_data=(X_test, Y_test))"
      ],
      "execution_count": 381,
      "outputs": [
        {
          "output_type": "stream",
          "text": [
            "Train on 60000 samples, validate on 10000 samples\n",
            "Epoch 1/20\n",
            "\n",
            "Epoch 00001: LearningRateScheduler setting learning rate to 0.003.\n",
            "\r  512/60000 [..............................] - ETA: 15s - loss: 0.0178 - acc: 0.9941"
          ],
          "name": "stdout"
        },
        {
          "output_type": "stream",
          "text": [
            "/usr/local/lib/python3.6/dist-packages/ipykernel_launcher.py:3: UserWarning: The `nb_epoch` argument in `fit` has been renamed `epochs`.\n",
            "  This is separate from the ipykernel package so we can avoid doing imports until\n"
          ],
          "name": "stderr"
        },
        {
          "output_type": "stream",
          "text": [
            "60000/60000 [==============================] - 4s 69us/step - loss: 0.0248 - acc: 0.9918 - val_loss: 0.0223 - val_acc: 0.9938\n",
            "\n",
            "Epoch 00001: val_acc improved from 0.99330 to 0.99380, saving model to /content/gdrive/My Drive/Colab Notebooks/EVA/4/epochs:001-val_acc:0.994.hdf5\n",
            "Epoch 2/20\n",
            "\n",
            "Epoch 00002: LearningRateScheduler setting learning rate to 0.0022744503.\n",
            "60000/60000 [==============================] - 4s 65us/step - loss: 0.0228 - acc: 0.9924 - val_loss: 0.0206 - val_acc: 0.9931\n",
            "\n",
            "Epoch 00002: val_acc did not improve from 0.99380\n",
            "Epoch 3/20\n",
            "\n",
            "Epoch 00003: LearningRateScheduler setting learning rate to 0.0018315018.\n",
            "60000/60000 [==============================] - 4s 65us/step - loss: 0.0204 - acc: 0.9934 - val_loss: 0.0225 - val_acc: 0.9931\n",
            "\n",
            "Epoch 00003: val_acc did not improve from 0.99380\n",
            "Epoch 4/20\n",
            "\n",
            "Epoch 00004: LearningRateScheduler setting learning rate to 0.0015329586.\n",
            "60000/60000 [==============================] - 4s 64us/step - loss: 0.0208 - acc: 0.9934 - val_loss: 0.0207 - val_acc: 0.9928\n",
            "\n",
            "Epoch 00004: val_acc did not improve from 0.99380\n",
            "Epoch 5/20\n",
            "\n",
            "Epoch 00005: LearningRateScheduler setting learning rate to 0.0013181019.\n",
            "60000/60000 [==============================] - 4s 64us/step - loss: 0.0192 - acc: 0.9937 - val_loss: 0.0204 - val_acc: 0.9935\n",
            "\n",
            "Epoch 00005: val_acc did not improve from 0.99380\n",
            "Epoch 6/20\n",
            "\n",
            "Epoch 00006: LearningRateScheduler setting learning rate to 0.0011560694.\n",
            "60000/60000 [==============================] - 4s 66us/step - loss: 0.0185 - acc: 0.9941 - val_loss: 0.0216 - val_acc: 0.9928\n",
            "\n",
            "Epoch 00006: val_acc did not improve from 0.99380\n",
            "Epoch 7/20\n",
            "\n",
            "Epoch 00007: LearningRateScheduler setting learning rate to 0.0010295127.\n",
            "60000/60000 [==============================] - 4s 66us/step - loss: 0.0173 - acc: 0.9942 - val_loss: 0.0207 - val_acc: 0.9930\n",
            "\n",
            "Epoch 00007: val_acc did not improve from 0.99380\n",
            "Epoch 8/20\n",
            "\n",
            "Epoch 00008: LearningRateScheduler setting learning rate to 0.0009279307.\n",
            "60000/60000 [==============================] - 4s 63us/step - loss: 0.0177 - acc: 0.9942 - val_loss: 0.0199 - val_acc: 0.9932\n",
            "\n",
            "Epoch 00008: val_acc did not improve from 0.99380\n",
            "Epoch 9/20\n",
            "\n",
            "Epoch 00009: LearningRateScheduler setting learning rate to 0.0008445946.\n",
            "60000/60000 [==============================] - 4s 65us/step - loss: 0.0187 - acc: 0.9936 - val_loss: 0.0193 - val_acc: 0.9929\n",
            "\n",
            "Epoch 00009: val_acc did not improve from 0.99380\n",
            "Epoch 10/20\n",
            "\n",
            "Epoch 00010: LearningRateScheduler setting learning rate to 0.0007749935.\n",
            "60000/60000 [==============================] - 4s 63us/step - loss: 0.0167 - acc: 0.9945 - val_loss: 0.0213 - val_acc: 0.9935\n",
            "\n",
            "Epoch 00010: val_acc did not improve from 0.99380\n",
            "Epoch 11/20\n",
            "\n",
            "Epoch 00011: LearningRateScheduler setting learning rate to 0.0007159905.\n",
            "60000/60000 [==============================] - 4s 65us/step - loss: 0.0155 - acc: 0.9947 - val_loss: 0.0211 - val_acc: 0.9938\n",
            "\n",
            "Epoch 00011: val_acc did not improve from 0.99380\n",
            "Epoch 12/20\n",
            "\n",
            "Epoch 00012: LearningRateScheduler setting learning rate to 0.000665336.\n",
            "60000/60000 [==============================] - 4s 65us/step - loss: 0.0158 - acc: 0.9950 - val_loss: 0.0192 - val_acc: 0.9936\n",
            "\n",
            "Epoch 00012: val_acc did not improve from 0.99380\n",
            "Epoch 13/20\n",
            "\n",
            "Epoch 00013: LearningRateScheduler setting learning rate to 0.0006213753.\n",
            "60000/60000 [==============================] - 4s 65us/step - loss: 0.0158 - acc: 0.9952 - val_loss: 0.0197 - val_acc: 0.9944\n",
            "\n",
            "Epoch 00013: val_acc improved from 0.99380 to 0.99440, saving model to /content/gdrive/My Drive/Colab Notebooks/EVA/4/epochs:013-val_acc:0.994.hdf5\n",
            "Epoch 14/20\n",
            "\n",
            "Epoch 00014: LearningRateScheduler setting learning rate to 0.0005828638.\n",
            "60000/60000 [==============================] - 4s 65us/step - loss: 0.0157 - acc: 0.9948 - val_loss: 0.0189 - val_acc: 0.9945\n",
            "\n",
            "Epoch 00014: val_acc improved from 0.99440 to 0.99450, saving model to /content/gdrive/My Drive/Colab Notebooks/EVA/4/epochs:014-val_acc:0.994.hdf5\n",
            "Epoch 15/20\n",
            "\n",
            "Epoch 00015: LearningRateScheduler setting learning rate to 0.0005488474.\n",
            "60000/60000 [==============================] - 4s 65us/step - loss: 0.0150 - acc: 0.9952 - val_loss: 0.0194 - val_acc: 0.9943\n",
            "\n",
            "Epoch 00015: val_acc did not improve from 0.99450\n",
            "Epoch 16/20\n",
            "\n",
            "Epoch 00016: LearningRateScheduler setting learning rate to 0.0005185825.\n",
            "60000/60000 [==============================] - 4s 66us/step - loss: 0.0145 - acc: 0.9950 - val_loss: 0.0187 - val_acc: 0.9944\n",
            "\n",
            "Epoch 00016: val_acc did not improve from 0.99450\n",
            "Epoch 17/20\n",
            "\n",
            "Epoch 00017: LearningRateScheduler setting learning rate to 0.000491481.\n",
            "60000/60000 [==============================] - 4s 64us/step - loss: 0.0148 - acc: 0.9953 - val_loss: 0.0192 - val_acc: 0.9933\n",
            "\n",
            "Epoch 00017: val_acc did not improve from 0.99450\n",
            "Epoch 18/20\n",
            "\n",
            "Epoch 00018: LearningRateScheduler setting learning rate to 0.0004670715.\n",
            "60000/60000 [==============================] - 4s 65us/step - loss: 0.0149 - acc: 0.9953 - val_loss: 0.0188 - val_acc: 0.9943\n",
            "\n",
            "Epoch 00018: val_acc did not improve from 0.99450\n",
            "Epoch 19/20\n",
            "\n",
            "Epoch 00019: LearningRateScheduler setting learning rate to 0.0004449718.\n",
            "60000/60000 [==============================] - 4s 64us/step - loss: 0.0153 - acc: 0.9950 - val_loss: 0.0178 - val_acc: 0.9940\n",
            "\n",
            "Epoch 00019: val_acc did not improve from 0.99450\n",
            "Epoch 20/20\n",
            "\n",
            "Epoch 00020: LearningRateScheduler setting learning rate to 0.000424869.\n",
            "60000/60000 [==============================] - 4s 64us/step - loss: 0.0136 - acc: 0.9960 - val_loss: 0.0184 - val_acc: 0.9944\n",
            "\n",
            "Epoch 00020: val_acc did not improve from 0.99450\n"
          ],
          "name": "stdout"
        },
        {
          "output_type": "execute_result",
          "data": {
            "text/plain": [
              "<keras.callbacks.History at 0x7f2ccc2a37f0>"
            ]
          },
          "metadata": {
            "tags": []
          },
          "execution_count": 381
        }
      ]
    },
    {
      "cell_type": "code",
      "metadata": {
        "id": "ezCb6oFKkfo5",
        "colab_type": "code",
        "colab": {}
      },
      "source": [
        "model.load_weights('/content/gdrive/My Drive/Colab Notebooks/EVA/4/epochs:014-val_acc:0.994.hdf5')\n",
        "\n",
        "model.compile(loss='categorical_crossentropy',\n",
        "             optimizer=keras.optimizers.Adam(lr=0.000001, beta_1=0.9, beta_2=0.999, epsilon=None, decay=0.0, amsgrad=False),\n",
        "             metrics=['accuracy'])"
      ],
      "execution_count": 0,
      "outputs": []
    },
    {
      "cell_type": "code",
      "metadata": {
        "id": "uJvod1OM_O30",
        "colab_type": "code",
        "colab": {
          "base_uri": "https://localhost:8080/",
          "height": 34
        },
        "outputId": "78d04d1f-c8bd-4c55-ff55-4d3e72a577a8"
      },
      "source": [
        "score = model.evaluate(X_test, Y_test, verbose=0)\n",
        "print(score)"
      ],
      "execution_count": 383,
      "outputs": [
        {
          "output_type": "stream",
          "text": [
            "[0.018866214980721996, 0.9945]\n"
          ],
          "name": "stdout"
        }
      ]
    },
    {
      "cell_type": "code",
      "metadata": {
        "id": "DZ1_g-8j_dR2",
        "colab_type": "code",
        "colab": {}
      },
      "source": [
        ""
      ],
      "execution_count": 0,
      "outputs": []
    }
  ]
}